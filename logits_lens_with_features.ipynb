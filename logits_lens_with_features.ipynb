{
  "cells": [
    {
      "cell_type": "markdown",
      "metadata": {
        "id": "W6UyzFGfBSdA"
      },
      "source": [
        "# Understanding SAE Features with the Logit Lens\n",
        "\n",
        "This notebook demonstrates how to use the mats_sae_training library to perform the analysis documented the post \"[Understanding SAE Features with the Logit Lens](https://www.alignmentforum.org/posts/qykrYY6rXXM7EEs8Q/understanding-sae-features-with-the-logit-lens)\".\n",
        "\n",
        "As such, the notebook will include sections for:\n",
        "\n",
        "- Loading in GPT2-Small Residual Stream SAEs from Huggingface.\n",
        "- Performing Virtual Weight Based Analysis of features (specifically looking at the logit weight distributions).\n",
        "- Programmatically opening neuronpedia tabs to engage with public dashboards on [neuronpedia](https://www.neuronpedia.org/).\n",
        "- Performing Token Set Enrichment Analysis (based on Gene Set Enrichment Analysis).\n"
      ]
    },
    {
      "cell_type": "markdown",
      "metadata": {
        "id": "ff-PciWXBSdB"
      },
      "source": [
        "## Set Up\n",
        "\n",
        "Here we'll load various functions for things like:\n",
        "\n",
        "- downloading and loading our SAEs from huggingface.\n",
        "- opening neuronpedia from a jupyter cell.\n",
        "- calculating statistics of the logit weight distributions.\n",
        "- performing Token Set Enrichment Analysis (TSEA) and plotting the results.\n"
      ]
    },
    {
      "cell_type": "markdown",
      "metadata": {
        "id": "vImmTg-8BSdC"
      },
      "source": [
        "### Imports\n"
      ]
    },
    {
      "cell_type": "code",
      "execution_count": 1,
      "metadata": {
        "colab": {
          "base_uri": "https://localhost:8080/"
        },
        "id": "sOd2C0e1BfN1",
        "outputId": "a3adf369-93ad-4a75-ea6d-24d476d5c6df"
      },
      "outputs": [],
      "source": [
        "from IPython import get_ipython  # type: ignore\n",
        "\n",
        "ipython = get_ipython()\n",
        "assert ipython is not None\n",
        "ipython.run_line_magic(\"load_ext\", \"autoreload\")\n",
        "ipython.run_line_magic(\"autoreload\", \"2\")"
      ]
    },
    {
      "cell_type": "code",
      "execution_count": 2,
      "metadata": {
        "colab": {
          "base_uri": "https://localhost:8080/",
          "height": 436
        },
        "id": "YhU-Fmiibz26",
        "outputId": "ac0d4cda-1cab-4dfa-8ee0-5722a3094573"
      },
      "outputs": [
        {
          "name": "stderr",
          "output_type": "stream",
          "text": [
            "/n/home04/cfang/.conda/envs/sae/lib/python3.12/site-packages/tqdm/auto.py:21: TqdmWarning: IProgress not found. Please update jupyter and ipywidgets. See https://ipywidgets.readthedocs.io/en/stable/user_install.html\n",
            "  from .autonotebook import tqdm as notebook_tqdm\n"
          ]
        }
      ],
      "source": [
        "# Feature statistics\n",
        "\n",
        "import pandas as pd\n",
        "import torch\n",
        "from tqdm import tqdm\n",
        "from transformer_lens import HookedTransformer\n",
        "\n",
        "from sae_lens.sae import SAE\n",
        "\n",
        "\n",
        "@torch.no_grad()\n",
        "def get_feature_property_df(sae: SAE, feature_sparsity: torch.Tensor):\n",
        "    \"\"\"\n",
        "    feature_property_df = get_feature_property_df(sae, log_feature_density.cpu())\n",
        "    \"\"\"\n",
        "\n",
        "    W_dec_normalized = (\n",
        "        sae.W_dec.cpu()\n",
        "    )  # / sparse_autoencoder.W_dec.cpu().norm(dim=-1, keepdim=True)\n",
        "    W_enc_normalized = (sae.W_enc.cpu() / sae.W_enc.cpu().norm(dim=-1, keepdim=True)).T\n",
        "\n",
        "    d_e_projection = (W_dec_normalized * W_enc_normalized).sum(-1)\n",
        "    b_dec_projection = sae.b_dec.cpu() @ W_dec_normalized.T\n",
        "\n",
        "    return pd.DataFrame(\n",
        "        {\n",
        "            \"log_feature_sparsity\": feature_sparsity + 1e-10,\n",
        "            \"d_e_projection\": d_e_projection,\n",
        "            # \"d_e_projection_normalized\": d_e_projection_normalized,\n",
        "            \"b_enc\": sae.b_enc.detach().cpu(),\n",
        "            \"b_dec_projection\": b_dec_projection,\n",
        "            \"feature\": list(range(sae.cfg.d_sae)),  # type: ignore\n",
        "            \"dead_neuron\": (feature_sparsity < -9).cpu(),\n",
        "        }\n",
        "    )\n",
        "\n",
        "\n",
        "@torch.no_grad()\n",
        "def get_stats_df(projection: torch.Tensor):\n",
        "    \"\"\"\n",
        "    Returns a dataframe with the mean, std, skewness and kurtosis of the projection\n",
        "    \"\"\"\n",
        "    mean = projection.mean(dim=1, keepdim=True)\n",
        "    diffs = projection - mean\n",
        "    var = (diffs**2).mean(dim=1, keepdim=True)\n",
        "    std = torch.pow(var, 0.5)\n",
        "    zscores = diffs / std\n",
        "    skews = torch.mean(torch.pow(zscores, 3.0), dim=1)\n",
        "    kurtosis = torch.mean(torch.pow(zscores, 4.0), dim=1)\n",
        "\n",
        "    return pd.DataFrame(\n",
        "        {\n",
        "            \"feature\": range(len(skews)),\n",
        "            \"mean\": mean.numpy().squeeze(),\n",
        "            \"std\": std.numpy().squeeze(),\n",
        "            \"skewness\": skews.numpy(),\n",
        "            \"kurtosis\": kurtosis.numpy(),\n",
        "        }\n",
        "    )\n",
        "\n",
        "\n",
        "@torch.no_grad()\n",
        "def get_all_stats_dfs(\n",
        "    gpt2_small_sparse_autoencoders: dict[str, SAE],  # [hook_point, sae]\n",
        "    gpt2_small_sae_sparsities: dict[str, torch.Tensor],  # [hook_point, sae]\n",
        "    model: HookedTransformer,\n",
        "    cosine_sim: bool = False,\n",
        "):\n",
        "    stats_dfs = []\n",
        "    pbar = tqdm(gpt2_small_sparse_autoencoders.keys())\n",
        "    for key in pbar:\n",
        "        layer = int(key.split(\".\")[1])\n",
        "        sparse_autoencoder = gpt2_small_sparse_autoencoders[key]\n",
        "        pbar.set_description(f\"Processing layer {sparse_autoencoder.cfg.hook_name}\")\n",
        "        W_U_stats_df_dec, _ = get_W_U_W_dec_stats_df(\n",
        "            sparse_autoencoder.W_dec.cpu(), model, cosine_sim\n",
        "        )\n",
        "        log_feature_sparsity = gpt2_small_sae_sparsities[key].detach().cpu()\n",
        "        W_U_stats_df_dec[\"log_feature_sparsity\"] = log_feature_sparsity\n",
        "        W_U_stats_df_dec[\"layer\"] = layer + (1 if \"post\" in key else 0)\n",
        "        stats_dfs.append(W_U_stats_df_dec)\n",
        "\n",
        "    return pd.concat(stats_dfs, axis=0)\n",
        "\n",
        "\n",
        "@torch.no_grad()\n",
        "def get_W_U_W_dec_stats_df(\n",
        "    W_dec: torch.Tensor, model: HookedTransformer, cosine_sim: bool = False\n",
        ") -> tuple[pd.DataFrame, torch.Tensor]:\n",
        "    W_U = model.W_U.detach().cpu()\n",
        "    if cosine_sim:\n",
        "        W_U = W_U / W_U.norm(dim=0, keepdim=True)\n",
        "    dec_projection_onto_W_U = W_dec @ W_U\n",
        "    W_U_stats_df = get_stats_df(dec_projection_onto_W_U)\n",
        "    return W_U_stats_df, dec_projection_onto_W_U"
      ]
    },
    {
      "cell_type": "code",
      "execution_count": 3,
      "metadata": {
        "id": "QmdAd_25BSdC"
      },
      "outputs": [
        {
          "ename": "ModuleNotFoundError",
          "evalue": "No module named 'tutorials'",
          "output_type": "error",
          "traceback": [
            "\u001b[0;31m---------------------------------------------------------------------------\u001b[0m",
            "\u001b[0;31mModuleNotFoundError\u001b[0m                       Traceback (most recent call last)",
            "Cell \u001b[0;32mIn[3], line 12\u001b[0m\n\u001b[1;32m      9\u001b[0m \u001b[38;5;28;01mfrom\u001b[39;00m \u001b[38;5;21;01msae_lens\u001b[39;00m\u001b[38;5;21;01m.\u001b[39;00m\u001b[38;5;21;01manalysis\u001b[39;00m\u001b[38;5;21;01m.\u001b[39;00m\u001b[38;5;21;01mneuronpedia_integration\u001b[39;00m \u001b[38;5;28;01mimport\u001b[39;00m get_neuronpedia_quick_list\n\u001b[1;32m     11\u001b[0m \u001b[38;5;66;03m# Enrichment Analysis Functions\u001b[39;00m\n\u001b[0;32m---> 12\u001b[0m \u001b[38;5;28;01mfrom\u001b[39;00m \u001b[38;5;21;01mtutorials\u001b[39;00m\u001b[38;5;21;01m.\u001b[39;00m\u001b[38;5;21;01mtsea\u001b[39;00m \u001b[38;5;28;01mimport\u001b[39;00m (\n\u001b[1;32m     13\u001b[0m     get_enrichment_df,\n\u001b[1;32m     14\u001b[0m     manhattan_plot_enrichment_scores,\n\u001b[1;32m     15\u001b[0m     plot_top_k_feature_projections_by_token_and_category,\n\u001b[1;32m     16\u001b[0m )\n\u001b[1;32m     17\u001b[0m \u001b[38;5;28;01mfrom\u001b[39;00m \u001b[38;5;21;01mtutorials\u001b[39;00m\u001b[38;5;21;01m.\u001b[39;00m\u001b[38;5;21;01mtsea\u001b[39;00m \u001b[38;5;28;01mimport\u001b[39;00m (\n\u001b[1;32m     18\u001b[0m     get_baby_name_sets,\n\u001b[1;32m     19\u001b[0m     get_letter_gene_sets,\n\u001b[0;32m   (...)\u001b[0m\n\u001b[1;32m     22\u001b[0m     get_gene_set_from_regex,\n\u001b[1;32m     23\u001b[0m )\n",
            "\u001b[0;31mModuleNotFoundError\u001b[0m: No module named 'tutorials'"
          ]
        }
      ],
      "source": [
        "import numpy as np\n",
        "import torch\n",
        "import plotly_express as px\n",
        "\n",
        "from transformer_lens import HookedTransformer\n",
        "\n",
        "# Model Loading\n",
        "from sae_lens import SAE\n",
        "from sae_lens.analysis.neuronpedia_integration import get_neuronpedia_quick_list\n",
        "\n",
        "# Enrichment Analysis Functions\n",
        "from tutorials.tsea import (\n",
        "    get_enrichment_df,\n",
        "    manhattan_plot_enrichment_scores,\n",
        "    plot_top_k_feature_projections_by_token_and_category,\n",
        ")\n",
        "from tutorials.tsea import (\n",
        "    get_baby_name_sets,\n",
        "    get_letter_gene_sets,\n",
        "    generate_pos_sets,\n",
        "    get_test_gene_sets,\n",
        "    get_gene_set_from_regex,\n",
        ")"
      ]
    },
    {
      "cell_type": "markdown",
      "metadata": {
        "id": "0VEAe5FjBSdD"
      },
      "source": [
        "### Loading GPT2 Small and SAE Weights\n",
        "\n",
        "This will take a while the first time you run it, but will be quick thereafter.\n"
      ]
    },
    {
      "cell_type": "code",
      "execution_count": 4,
      "metadata": {
        "id": "HQ904zDOBSdD"
      },
      "outputs": [
        {
          "name": "stderr",
          "output_type": "stream",
          "text": [
            "huggingface/tokenizers: The current process just got forked, after parallelism has already been used. Disabling parallelism to avoid deadlocks...\n",
            "To disable this warning, you can either:\n",
            "\t- Avoid using `tokenizers` before the fork if possible\n",
            "\t- Explicitly set the environment variable TOKENIZERS_PARALLELISM=(true | false)\n",
            "huggingface/tokenizers: The current process just got forked, after parallelism has already been used. Disabling parallelism to avoid deadlocks...\n",
            "To disable this warning, you can either:\n",
            "\t- Avoid using `tokenizers` before the fork if possible\n",
            "\t- Explicitly set the environment variable TOKENIZERS_PARALLELISM=(true | false)\n"
          ]
        },
        {
          "name": "stdout",
          "output_type": "stream",
          "text": [
            "Loaded pretrained model gpt2-small into HookedTransformer\n"
          ]
        },
        {
          "name": "stderr",
          "output_type": "stream",
          "text": [
            "/n/home04/cfang/.conda/envs/sae/lib/python3.12/site-packages/sae_lens/sae.py:146: UserWarning: \n",
            "This SAE has non-empty model_from_pretrained_kwargs. \n",
            "For optimal performance, load the model like so:\n",
            "model = HookedSAETransformer.from_pretrained_no_processing(..., **cfg.model_from_pretrained_kwargs)\n",
            "  warnings.warn(\n"
          ]
        }
      ],
      "source": [
        "model = HookedTransformer.from_pretrained(\"gpt2-small\")\n",
        "# this is an outdated way to load the SAE. We need to have feature spartisity loadable through the new interface to remove it.\n",
        "gpt2_small_sparse_autoencoders = {}\n",
        "gpt2_small_sae_sparsities = {}\n",
        "\n",
        "for layer in range(12):\n",
        "    sae, original_cfg_dict, sparsity = SAE.from_pretrained(\n",
        "        release=\"gpt2-small-res-jb\",\n",
        "        sae_id=f\"blocks.{layer}.hook_resid_pre\",\n",
        "        device=\"cpu\",\n",
        "    )\n",
        "    gpt2_small_sparse_autoencoders[f\"blocks.{layer}.hook_resid_pre\"] = sae\n",
        "    gpt2_small_sae_sparsities[f\"blocks.{layer}.hook_resid_pre\"] = sparsity"
      ]
    },
    {
      "cell_type": "markdown",
      "metadata": {
        "id": "4pFYJKeNBSdD"
      },
      "source": [
        "# Statistical Properties of Feature Logit Distributions\n",
        "\n",
        "In the post I study layer 8 (for no particular reason). At the end of this notebook is code for visualizing these statistics across all layers. Feel free to change the layer here and explore different layers.\n"
      ]
    },
    {
      "cell_type": "code",
      "execution_count": 5,
      "metadata": {
        "id": "LEK1jEpEBSdD"
      },
      "outputs": [
        {
          "data": {
            "text/html": [
              "<div>\n",
              "<style scoped>\n",
              "    .dataframe tbody tr th:only-of-type {\n",
              "        vertical-align: middle;\n",
              "    }\n",
              "\n",
              "    .dataframe tbody tr th {\n",
              "        vertical-align: top;\n",
              "    }\n",
              "\n",
              "    .dataframe thead th {\n",
              "        text-align: right;\n",
              "    }\n",
              "</style>\n",
              "<table border=\"1\" class=\"dataframe\">\n",
              "  <thead>\n",
              "    <tr style=\"text-align: right;\">\n",
              "      <th></th>\n",
              "      <th>feature</th>\n",
              "      <th>mean</th>\n",
              "      <th>std</th>\n",
              "      <th>skewness</th>\n",
              "      <th>kurtosis</th>\n",
              "      <th>sparsity</th>\n",
              "    </tr>\n",
              "  </thead>\n",
              "  <tbody>\n",
              "    <tr>\n",
              "      <th>0</th>\n",
              "      <td>0</td>\n",
              "      <td>1.518076e-10</td>\n",
              "      <td>0.147306</td>\n",
              "      <td>0.181176</td>\n",
              "      <td>3.349324</td>\n",
              "      <td>-2.826817</td>\n",
              "    </tr>\n",
              "    <tr>\n",
              "      <th>1</th>\n",
              "      <td>1</td>\n",
              "      <td>-1.157533e-08</td>\n",
              "      <td>0.167641</td>\n",
              "      <td>0.123870</td>\n",
              "      <td>3.466492</td>\n",
              "      <td>-3.049473</td>\n",
              "    </tr>\n",
              "    <tr>\n",
              "      <th>2</th>\n",
              "      <td>2</td>\n",
              "      <td>-2.890037e-08</td>\n",
              "      <td>0.157237</td>\n",
              "      <td>0.097977</td>\n",
              "      <td>3.300671</td>\n",
              "      <td>-2.960210</td>\n",
              "    </tr>\n",
              "    <tr>\n",
              "      <th>3</th>\n",
              "      <td>3</td>\n",
              "      <td>-1.518076e-10</td>\n",
              "      <td>0.174304</td>\n",
              "      <td>0.133900</td>\n",
              "      <td>3.522123</td>\n",
              "      <td>-2.822145</td>\n",
              "    </tr>\n",
              "    <tr>\n",
              "      <th>4</th>\n",
              "      <td>4</td>\n",
              "      <td>1.132864e-08</td>\n",
              "      <td>0.190366</td>\n",
              "      <td>0.212915</td>\n",
              "      <td>3.326519</td>\n",
              "      <td>-2.125533</td>\n",
              "    </tr>\n",
              "    <tr>\n",
              "      <th>...</th>\n",
              "      <td>...</td>\n",
              "      <td>...</td>\n",
              "      <td>...</td>\n",
              "      <td>...</td>\n",
              "      <td>...</td>\n",
              "      <td>...</td>\n",
              "    </tr>\n",
              "    <tr>\n",
              "      <th>24571</th>\n",
              "      <td>24571</td>\n",
              "      <td>1.408015e-08</td>\n",
              "      <td>0.205128</td>\n",
              "      <td>0.320509</td>\n",
              "      <td>3.330733</td>\n",
              "      <td>-1.933250</td>\n",
              "    </tr>\n",
              "    <tr>\n",
              "      <th>24572</th>\n",
              "      <td>24572</td>\n",
              "      <td>3.596891e-08</td>\n",
              "      <td>0.163037</td>\n",
              "      <td>0.112237</td>\n",
              "      <td>3.468480</td>\n",
              "      <td>-3.279720</td>\n",
              "    </tr>\n",
              "    <tr>\n",
              "      <th>24573</th>\n",
              "      <td>24573</td>\n",
              "      <td>2.743922e-08</td>\n",
              "      <td>0.166876</td>\n",
              "      <td>0.311090</td>\n",
              "      <td>4.092549</td>\n",
              "      <td>-2.592994</td>\n",
              "    </tr>\n",
              "    <tr>\n",
              "      <th>24574</th>\n",
              "      <td>24574</td>\n",
              "      <td>1.643317e-08</td>\n",
              "      <td>0.170027</td>\n",
              "      <td>0.359409</td>\n",
              "      <td>3.876930</td>\n",
              "      <td>-3.186663</td>\n",
              "    </tr>\n",
              "    <tr>\n",
              "      <th>24575</th>\n",
              "      <td>24575</td>\n",
              "      <td>-2.136692e-08</td>\n",
              "      <td>0.256168</td>\n",
              "      <td>0.357178</td>\n",
              "      <td>2.617406</td>\n",
              "      <td>-2.580951</td>\n",
              "    </tr>\n",
              "  </tbody>\n",
              "</table>\n",
              "<p>24576 rows × 6 columns</p>\n",
              "</div>"
            ],
            "text/plain": [
              "       feature          mean       std  skewness  kurtosis  sparsity\n",
              "0            0  1.518076e-10  0.147306  0.181176  3.349324 -2.826817\n",
              "1            1 -1.157533e-08  0.167641  0.123870  3.466492 -3.049473\n",
              "2            2 -2.890037e-08  0.157237  0.097977  3.300671 -2.960210\n",
              "3            3 -1.518076e-10  0.174304  0.133900  3.522123 -2.822145\n",
              "4            4  1.132864e-08  0.190366  0.212915  3.326519 -2.125533\n",
              "...        ...           ...       ...       ...       ...       ...\n",
              "24571    24571  1.408015e-08  0.205128  0.320509  3.330733 -1.933250\n",
              "24572    24572  3.596891e-08  0.163037  0.112237  3.468480 -3.279720\n",
              "24573    24573  2.743922e-08  0.166876  0.311090  4.092549 -2.592994\n",
              "24574    24574  1.643317e-08  0.170027  0.359409  3.876930 -3.186663\n",
              "24575    24575 -2.136692e-08  0.256168  0.357178  2.617406 -2.580951\n",
              "\n",
              "[24576 rows x 6 columns]"
            ]
          },
          "metadata": {},
          "output_type": "display_data"
        }
      ],
      "source": [
        "# In the post, I focus on layer 8\n",
        "layer = 8\n",
        "\n",
        "# get the corresponding SAE and feature sparsities.\n",
        "sparse_autoencoder = gpt2_small_sparse_autoencoders[f\"blocks.{layer}.hook_resid_pre\"]\n",
        "log_feature_sparsity = gpt2_small_sae_sparsities[f\"blocks.{layer}.hook_resid_pre\"].cpu()\n",
        "\n",
        "W_dec = sparse_autoencoder.W_dec.detach().cpu()\n",
        "\n",
        "# calculate the statistics of the logit weight distributions\n",
        "W_U_stats_df_dec, dec_projection_onto_W_U = get_W_U_W_dec_stats_df(\n",
        "    W_dec, model, cosine_sim=False\n",
        ")\n",
        "W_U_stats_df_dec[\"sparsity\"] = (\n",
        "    log_feature_sparsity  # add feature sparsity since it is often interesting.\n",
        ")\n",
        "display(W_U_stats_df_dec)"
      ]
    },
    {
      "cell_type": "code",
      "execution_count": 7,
      "metadata": {},
      "outputs": [
        {
          "data": {
            "text/html": [
              "<div>\n",
              "<style scoped>\n",
              "    .dataframe tbody tr th:only-of-type {\n",
              "        vertical-align: middle;\n",
              "    }\n",
              "\n",
              "    .dataframe tbody tr th {\n",
              "        vertical-align: top;\n",
              "    }\n",
              "\n",
              "    .dataframe thead th {\n",
              "        text-align: right;\n",
              "    }\n",
              "</style>\n",
              "<table border=\"1\" class=\"dataframe\">\n",
              "  <thead>\n",
              "    <tr style=\"text-align: right;\">\n",
              "      <th></th>\n",
              "      <th>feature</th>\n",
              "      <th>mean</th>\n",
              "      <th>std</th>\n",
              "      <th>skewness</th>\n",
              "      <th>kurtosis</th>\n",
              "      <th>sparsity</th>\n",
              "    </tr>\n",
              "  </thead>\n",
              "  <tbody>\n",
              "    <tr>\n",
              "      <th>0</th>\n",
              "      <td>0</td>\n",
              "      <td>1.518076e-10</td>\n",
              "      <td>0.147306</td>\n",
              "      <td>0.181176</td>\n",
              "      <td>3.349324</td>\n",
              "      <td>-2.826817</td>\n",
              "    </tr>\n",
              "    <tr>\n",
              "      <th>1</th>\n",
              "      <td>1</td>\n",
              "      <td>-1.157533e-08</td>\n",
              "      <td>0.167641</td>\n",
              "      <td>0.123870</td>\n",
              "      <td>3.466492</td>\n",
              "      <td>-3.049473</td>\n",
              "    </tr>\n",
              "    <tr>\n",
              "      <th>2</th>\n",
              "      <td>2</td>\n",
              "      <td>-2.890037e-08</td>\n",
              "      <td>0.157237</td>\n",
              "      <td>0.097977</td>\n",
              "      <td>3.300671</td>\n",
              "      <td>-2.960210</td>\n",
              "    </tr>\n",
              "    <tr>\n",
              "      <th>3</th>\n",
              "      <td>3</td>\n",
              "      <td>-1.518076e-10</td>\n",
              "      <td>0.174304</td>\n",
              "      <td>0.133900</td>\n",
              "      <td>3.522123</td>\n",
              "      <td>-2.822145</td>\n",
              "    </tr>\n",
              "    <tr>\n",
              "      <th>4</th>\n",
              "      <td>4</td>\n",
              "      <td>1.132864e-08</td>\n",
              "      <td>0.190366</td>\n",
              "      <td>0.212915</td>\n",
              "      <td>3.326519</td>\n",
              "      <td>-2.125533</td>\n",
              "    </tr>\n",
              "    <tr>\n",
              "      <th>...</th>\n",
              "      <td>...</td>\n",
              "      <td>...</td>\n",
              "      <td>...</td>\n",
              "      <td>...</td>\n",
              "      <td>...</td>\n",
              "      <td>...</td>\n",
              "    </tr>\n",
              "    <tr>\n",
              "      <th>24571</th>\n",
              "      <td>24571</td>\n",
              "      <td>1.408015e-08</td>\n",
              "      <td>0.205128</td>\n",
              "      <td>0.320509</td>\n",
              "      <td>3.330733</td>\n",
              "      <td>-1.933250</td>\n",
              "    </tr>\n",
              "    <tr>\n",
              "      <th>24572</th>\n",
              "      <td>24572</td>\n",
              "      <td>3.596891e-08</td>\n",
              "      <td>0.163037</td>\n",
              "      <td>0.112237</td>\n",
              "      <td>3.468480</td>\n",
              "      <td>-3.279720</td>\n",
              "    </tr>\n",
              "    <tr>\n",
              "      <th>24573</th>\n",
              "      <td>24573</td>\n",
              "      <td>2.743922e-08</td>\n",
              "      <td>0.166876</td>\n",
              "      <td>0.311090</td>\n",
              "      <td>4.092549</td>\n",
              "      <td>-2.592994</td>\n",
              "    </tr>\n",
              "    <tr>\n",
              "      <th>24574</th>\n",
              "      <td>24574</td>\n",
              "      <td>1.643317e-08</td>\n",
              "      <td>0.170027</td>\n",
              "      <td>0.359409</td>\n",
              "      <td>3.876930</td>\n",
              "      <td>-3.186663</td>\n",
              "    </tr>\n",
              "    <tr>\n",
              "      <th>24575</th>\n",
              "      <td>24575</td>\n",
              "      <td>-2.136692e-08</td>\n",
              "      <td>0.256168</td>\n",
              "      <td>0.357178</td>\n",
              "      <td>2.617406</td>\n",
              "      <td>-2.580951</td>\n",
              "    </tr>\n",
              "  </tbody>\n",
              "</table>\n",
              "<p>24576 rows × 6 columns</p>\n",
              "</div>"
            ],
            "text/plain": [
              "       feature          mean       std  skewness  kurtosis  sparsity\n",
              "0            0  1.518076e-10  0.147306  0.181176  3.349324 -2.826817\n",
              "1            1 -1.157533e-08  0.167641  0.123870  3.466492 -3.049473\n",
              "2            2 -2.890037e-08  0.157237  0.097977  3.300671 -2.960210\n",
              "3            3 -1.518076e-10  0.174304  0.133900  3.522123 -2.822145\n",
              "4            4  1.132864e-08  0.190366  0.212915  3.326519 -2.125533\n",
              "...        ...           ...       ...       ...       ...       ...\n",
              "24571    24571  1.408015e-08  0.205128  0.320509  3.330733 -1.933250\n",
              "24572    24572  3.596891e-08  0.163037  0.112237  3.468480 -3.279720\n",
              "24573    24573  2.743922e-08  0.166876  0.311090  4.092549 -2.592994\n",
              "24574    24574  1.643317e-08  0.170027  0.359409  3.876930 -3.186663\n",
              "24575    24575 -2.136692e-08  0.256168  0.357178  2.617406 -2.580951\n",
              "\n",
              "[24576 rows x 6 columns]"
            ]
          },
          "execution_count": 7,
          "metadata": {},
          "output_type": "execute_result"
        }
      ],
      "source": [
        "W_U_stats_df_dec"
      ]
    },
    {
      "cell_type": "code",
      "execution_count": 8,
      "metadata": {},
      "outputs": [],
      "source": [
        "import matplotlib.pyplot as plt"
      ]
    },
    {
      "cell_type": "code",
      "execution_count": 12,
      "metadata": {},
      "outputs": [
        {
          "data": {
            "image/png": "[encoded data removed]",
            "text/plain": [
              "<Figure size 500x200 with 1 Axes>"
            ]
          },
          "metadata": {},
          "output_type": "display_data"
        }
      ],
      "source": [
        "plt.figure(figsize=(5,2))\n",
        "plt.hist(W_U_stats_df_dec['skewness'], bins=100)\n",
        "plt.show()"
      ]
    },
    {
      "cell_type": "code",
      "execution_count": 13,
      "metadata": {},
      "outputs": [
        {
          "data": {
            "image/png": "[encoded data removed]",
            "text/plain": [
              "<Figure size 500x200 with 1 Axes>"
            ]
          },
          "metadata": {},
          "output_type": "display_data"
        }
      ],
      "source": [
        "plt.figure(figsize=(5,2))\n",
        "plt.hist(np.log10(W_U_stats_df_dec['kurtosis']), bins=100)\n",
        "plt.show()"
      ]
    },
    {
      "cell_type": "code",
      "execution_count": 15,
      "metadata": {},
      "outputs": [
        {
          "data": {
            "image/png": "[encoded data removed]",
            "text/plain": [
              "<Figure size 500x200 with 1 Axes>"
            ]
          },
          "metadata": {},
          "output_type": "display_data"
        }
      ],
      "source": [
        "plt.figure(figsize=(5,2))\n",
        "plt.hist(W_U_stats_df_dec['sparsity'], bins=100)\n",
        "plt.show()"
      ]
    },
    {
      "cell_type": "code",
      "execution_count": 16,
      "metadata": {
        "id": "KuWSPqqjBSdE"
      },
      "outputs": [
        {
          "data": {
            "text/html": [
              "<div>\n",
              "<style scoped>\n",
              "    .dataframe tbody tr th:only-of-type {\n",
              "        vertical-align: middle;\n",
              "    }\n",
              "\n",
              "    .dataframe tbody tr th {\n",
              "        vertical-align: top;\n",
              "    }\n",
              "\n",
              "    .dataframe thead th {\n",
              "        text-align: right;\n",
              "    }\n",
              "</style>\n",
              "<table border=\"1\" class=\"dataframe\">\n",
              "  <thead>\n",
              "    <tr style=\"text-align: right;\">\n",
              "      <th></th>\n",
              "      <th>feature</th>\n",
              "      <th>skewness</th>\n",
              "      <th>kurtosis</th>\n",
              "      <th>std</th>\n",
              "    </tr>\n",
              "  </thead>\n",
              "  <tbody>\n",
              "    <tr>\n",
              "      <th>14215</th>\n",
              "      <td>14215</td>\n",
              "      <td>4.387646</td>\n",
              "      <td>55.515957</td>\n",
              "      <td>0.133079</td>\n",
              "    </tr>\n",
              "    <tr>\n",
              "      <th>19273</th>\n",
              "      <td>19273</td>\n",
              "      <td>3.638765</td>\n",
              "      <td>48.143673</td>\n",
              "      <td>0.115937</td>\n",
              "    </tr>\n",
              "    <tr>\n",
              "      <th>8992</th>\n",
              "      <td>8992</td>\n",
              "      <td>3.432152</td>\n",
              "      <td>44.810345</td>\n",
              "      <td>0.123028</td>\n",
              "    </tr>\n",
              "    <tr>\n",
              "      <th>895</th>\n",
              "      <td>895</td>\n",
              "      <td>3.228184</td>\n",
              "      <td>42.953152</td>\n",
              "      <td>0.112418</td>\n",
              "    </tr>\n",
              "  </tbody>\n",
              "</table>\n",
              "</div>"
            ],
            "text/plain": [
              "       feature  skewness   kurtosis       std\n",
              "14215    14215  4.387646  55.515957  0.133079\n",
              "19273    19273  3.638765  48.143673  0.115937\n",
              "8992      8992  3.432152  44.810345  0.123028\n",
              "895        895  3.228184  42.953152  0.112418"
            ]
          },
          "metadata": {},
          "output_type": "display_data"
        },
        {
          "data": {
            "text/plain": [
              "'https://neuronpedia.org/quick-list/?name=temporary_list&features=%5B%7B%22modelId%22%3A%20%22gpt2-small%22%2C%20%22layer%22%3A%20%228-res-jb%22%2C%20%22index%22%3A%20%2214215%22%7D%2C%20%7B%22modelId%22%3A%20%22gpt2-small%22%2C%20%22layer%22%3A%20%228-res-jb%22%2C%20%22index%22%3A%20%2219273%22%7D%2C%20%7B%22modelId%22%3A%20%22gpt2-small%22%2C%20%22layer%22%3A%20%228-res-jb%22%2C%20%22index%22%3A%20%228992%22%7D%2C%20%7B%22modelId%22%3A%20%22gpt2-small%22%2C%20%22layer%22%3A%20%228-res-jb%22%2C%20%22index%22%3A%20%22895%22%7D%5D'"
            ]
          },
          "execution_count": 16,
          "metadata": {},
          "output_type": "execute_result"
        }
      ],
      "source": [
        "# then you can query accross combinations of the statistics to find features of interest and open them in neuronpedia.\n",
        "tmp_df = W_U_stats_df_dec[[\"feature\", \"skewness\", \"kurtosis\", \"std\"]]\n",
        "# tmp_df = tmp_df[(tmp_df[\"std\"] > 0.04)]\n",
        "# tmp_df = tmp_df[(tmp_df[\"skewness\"] > 0.65)]\n",
        "tmp_df = tmp_df[(tmp_df[\"skewness\"] > 3)]\n",
        "tmp_df = tmp_df.sort_values(\"skewness\", ascending=False).head(10)\n",
        "display(tmp_df)\n",
        "\n",
        "# if desired, open the features in neuronpedia\n",
        "get_neuronpedia_quick_list(sparse_autoencoder, list(tmp_df.feature))"
      ]
    },
    {
      "cell_type": "code",
      "execution_count": 17,
      "metadata": {},
      "outputs": [
        {
          "data": {
            "text/plain": [
              "14215    14215\n",
              "19273    19273\n",
              "8992      8992\n",
              "895        895\n",
              "Name: feature, dtype: int64"
            ]
          },
          "execution_count": 17,
          "metadata": {},
          "output_type": "execute_result"
        }
      ],
      "source": [
        "tmp_df.feature"
      ]
    },
    {
      "cell_type": "markdown",
      "metadata": {
        "id": "AHGG86wkBSdE"
      },
      "source": [
        "# Token Set Enrichment Analysis\n",
        "\n",
        "We now proceed to token set enrichment analysis. I highly recommend reading my AlignmentForum post (espeically the case studies) before reading too much into any of these results.\n",
        "Also read this [post](https://transformer-circuits.pub/2024/qualitative-essay/index.html) for good general perspectives on statistics here.\n"
      ]
    },
    {
      "cell_type": "markdown",
      "metadata": {
        "id": "J4tuqT9SBSdE"
      },
      "source": [
        "## Defining Our Token Sets\n"
      ]
    },
    {
      "cell_type": "code",
      "execution_count": null,
      "metadata": {
        "id": "7mUxqd6mBSdE"
      },
      "outputs": [],
      "source": [
        "import nltk\n",
        "\n",
        "nltk.download(\"averaged_perceptron_tagger\")\n",
        "# get the vocab we need to filter to formulate token sets.\n",
        "vocab = model.tokenizer.get_vocab()  # type: ignore\n",
        "\n",
        "# make a regex dictionary to specify more sets.\n",
        "regex_dict = {\n",
        "    \"starts_with_space\": r\"Ġ.*\",\n",
        "    \"starts_with_capital\": r\"^Ġ*[A-Z].*\",\n",
        "    \"starts_with_lower\": r\"^Ġ*[a-z].*\",\n",
        "    \"all_digits\": r\"^Ġ*\\d+$\",\n",
        "    \"is_punctuation\": r\"^[^\\w\\s]+$\",\n",
        "    \"contains_close_bracket\": r\".*\\).*\",\n",
        "    \"contains_open_bracket\": r\".*\\(.*\",\n",
        "    \"all_caps\": r\"Ġ*[A-Z]+$\",\n",
        "    \"1 digit\": r\"Ġ*\\d{1}$\",\n",
        "    \"2 digits\": r\"Ġ*\\d{2}$\",\n",
        "    \"3 digits\": r\"Ġ*\\d{3}$\",\n",
        "    \"4 digits\": r\"Ġ*\\d{4}$\",\n",
        "    \"length_1\": r\"^Ġ*\\w{1}$\",\n",
        "    \"length_2\": r\"^Ġ*\\w{2}$\",\n",
        "    \"length_3\": r\"^Ġ*\\w{3}$\",\n",
        "    \"length_4\": r\"^Ġ*\\w{4}$\",\n",
        "    \"length_5\": r\"^Ġ*\\w{5}$\",\n",
        "}\n",
        "\n",
        "# print size of gene sets\n",
        "all_token_sets = get_letter_gene_sets(vocab)\n",
        "for key, value in regex_dict.items():\n",
        "    gene_set = get_gene_set_from_regex(vocab, value)\n",
        "    all_token_sets[key] = gene_set\n",
        "\n",
        "# some other sets that can be interesting\n",
        "baby_name_sets = get_baby_name_sets(vocab)\n",
        "pos_sets = generate_pos_sets(vocab)\n",
        "arbitrary_sets = get_test_gene_sets(model)\n",
        "\n",
        "all_token_sets = {**all_token_sets, **pos_sets}\n",
        "all_token_sets = {**all_token_sets, **arbitrary_sets}\n",
        "all_token_sets = {**all_token_sets, **baby_name_sets}\n",
        "\n",
        "# for each gene set, convert to string and  print the first 5 tokens\n",
        "for token_set_name, gene_set in sorted(\n",
        "    all_token_sets.items(), key=lambda x: len(x[1]), reverse=True\n",
        "):\n",
        "    tokens = [model.to_string(id) for id in list(gene_set)][:10]  # type: ignore\n",
        "    print(f\"{token_set_name}, has {len(gene_set)} genes\")\n",
        "    print(tokens)\n",
        "    print(\"----\")"
      ]
    },
    {
      "cell_type": "markdown",
      "metadata": {
        "id": "vxctX05KBSdE"
      },
      "source": [
        "## Performing Token Set Enrichment Analysis\n",
        "\n",
        "Below we perform token set enrichment analysis on various token sets. In practice, we'd likely perform tests accross all tokens and large libraries of sets simultaneously but to make it easier to run, we look at features with higher skew and select of a few token sets at a time to consider.\n"
      ]
    },
    {
      "cell_type": "code",
      "execution_count": null,
      "metadata": {
        "id": "eHwM7qVlBSdF"
      },
      "outputs": [],
      "source": [
        "features_ordered_by_skew = (\n",
        "    W_U_stats_df_dec[\"skewness\"].sort_values(ascending=False).head(5000).index.to_list()\n",
        ")"
      ]
    },
    {
      "cell_type": "code",
      "execution_count": null,
      "metadata": {
        "id": "QxuiBx4NBSdF"
      },
      "outputs": [],
      "source": [
        "# filter our list.\n",
        "token_sets_index = [\n",
        "    \"starts_with_space\",\n",
        "    \"starts_with_capital\",\n",
        "    \"all_digits\",\n",
        "    \"is_punctuation\",\n",
        "    \"all_caps\",\n",
        "]\n",
        "token_set_selected = {\n",
        "    k: set(v) for k, v in all_token_sets.items() if k in token_sets_index\n",
        "}\n",
        "\n",
        "# calculate the enrichment scores\n",
        "df_enrichment_scores = get_enrichment_df(\n",
        "    dec_projection_onto_W_U,  # use the logit weight values as our rankings over tokens.\n",
        "    features_ordered_by_skew,  # subset by these features\n",
        "    token_set_selected,  # use token_sets\n",
        ")\n",
        "\n",
        "manhattan_plot_enrichment_scores(\n",
        "    df_enrichment_scores,\n",
        "    label_threshold=0,\n",
        "    top_n=3,  # use our enrichment scores\n",
        ").show()"
      ]
    },
    {
      "cell_type": "code",
      "execution_count": null,
      "metadata": {
        "id": "yQ0n0aKTBSdF"
      },
      "outputs": [],
      "source": [
        "fig = px.scatter(\n",
        "    df_enrichment_scores.apply(lambda x: -1 * np.log(1 - x)).T,\n",
        "    x=\"starts_with_space\",\n",
        "    y=\"starts_with_capital\",\n",
        "    marginal_x=\"histogram\",\n",
        "    marginal_y=\"histogram\",\n",
        "    labels={\n",
        "        \"starts_with_space\": \"Starts with Space\",\n",
        "        \"starts_with_capital\": \"Starts with Capital\",\n",
        "    },\n",
        "    title=\"Enrichment Scores for Starts with Space vs Starts with Capital\",\n",
        "    height=800,\n",
        "    width=800,\n",
        ")\n",
        "# reduce point size on the scatter only\n",
        "fig.update_traces(marker=dict(size=2), selector=dict(mode=\"markers\"))\n",
        "fig.show()"
      ]
    },
    {
      "cell_type": "code",
      "execution_count": null,
      "metadata": {
        "id": "RcmU_6I9BSdF"
      },
      "outputs": [],
      "source": [
        "token_sets_index = [\"1 digit\", \"2 digits\", \"3 digits\", \"4 digits\"]\n",
        "token_set_selected = {\n",
        "    k: set(v) for k, v in all_token_sets.items() if k in token_sets_index\n",
        "}\n",
        "df_enrichment_scores = get_enrichment_df(\n",
        "    dec_projection_onto_W_U, features_ordered_by_skew, token_set_selected\n",
        ")\n",
        "manhattan_plot_enrichment_scores(df_enrichment_scores).show()"
      ]
    },
    {
      "cell_type": "code",
      "execution_count": null,
      "metadata": {
        "id": "BboYni5ZBSdF"
      },
      "outputs": [],
      "source": [
        "token_sets_index = [\"nltk_pos_PRP\", \"nltk_pos_VBZ\", \"nltk_pos_NNP\"]\n",
        "token_set_selected = {\n",
        "    k: set(v) for k, v in all_token_sets.items() if k in token_sets_index\n",
        "}\n",
        "df_enrichment_scores = get_enrichment_df(\n",
        "    dec_projection_onto_W_U, features_ordered_by_skew, token_set_selected\n",
        ")\n",
        "manhattan_plot_enrichment_scores(df_enrichment_scores).show()"
      ]
    },
    {
      "cell_type": "code",
      "execution_count": null,
      "metadata": {
        "id": "xKrcnE7GBSdF"
      },
      "outputs": [],
      "source": [
        "token_sets_index = [\"nltk_pos_VBN\", \"nltk_pos_VBG\", \"nltk_pos_VB\", \"nltk_pos_VBD\"]\n",
        "token_set_selected = {\n",
        "    k: set(v) for k, v in all_token_sets.items() if k in token_sets_index\n",
        "}\n",
        "df_enrichment_scores = get_enrichment_df(\n",
        "    dec_projection_onto_W_U, features_ordered_by_skew, token_set_selected\n",
        ")\n",
        "manhattan_plot_enrichment_scores(df_enrichment_scores).show()"
      ]
    },
    {
      "cell_type": "code",
      "execution_count": null,
      "metadata": {
        "id": "sKVdyyxoBSdF"
      },
      "outputs": [],
      "source": [
        "token_sets_index = [\"nltk_pos_WP\", \"nltk_pos_RBR\", \"nltk_pos_WDT\", \"nltk_pos_RB\"]\n",
        "token_set_selected = {\n",
        "    k: set(v) for k, v in all_token_sets.items() if k in token_sets_index\n",
        "}\n",
        "df_enrichment_scores = get_enrichment_df(\n",
        "    dec_projection_onto_W_U, features_ordered_by_skew, token_set_selected\n",
        ")\n",
        "manhattan_plot_enrichment_scores(df_enrichment_scores).show()"
      ]
    },
    {
      "cell_type": "code",
      "execution_count": null,
      "metadata": {
        "id": "YYC3GFscBSdF"
      },
      "outputs": [],
      "source": [
        "token_sets_index = [\"a\", \"e\", \"i\", \"o\", \"u\"]\n",
        "token_set_selected = {\n",
        "    k: set(v) for k, v in all_token_sets.items() if k in token_sets_index\n",
        "}\n",
        "df_enrichment_scores = get_enrichment_df(\n",
        "    dec_projection_onto_W_U, features_ordered_by_skew, token_set_selected\n",
        ")\n",
        "manhattan_plot_enrichment_scores(df_enrichment_scores).show()"
      ]
    },
    {
      "cell_type": "code",
      "execution_count": null,
      "metadata": {
        "id": "JvmgQ_YmBSdF"
      },
      "outputs": [],
      "source": [
        "token_sets_index = [\"negative_words\", \"positive_words\"]\n",
        "token_set_selected = {\n",
        "    k: set(v) for k, v in all_token_sets.items() if k in token_sets_index\n",
        "}\n",
        "df_enrichment_scores = get_enrichment_df(\n",
        "    dec_projection_onto_W_U, features_ordered_by_skew, token_set_selected\n",
        ")\n",
        "manhattan_plot_enrichment_scores(df_enrichment_scores).show()"
      ]
    },
    {
      "cell_type": "code",
      "execution_count": null,
      "metadata": {
        "id": "ltYmy5lMBSdF"
      },
      "outputs": [],
      "source": [
        "fig = px.scatter(\n",
        "    df_enrichment_scores.apply(lambda x: -1 * np.log(1 - x))\n",
        "    .T.reset_index()\n",
        "    .rename(columns={\"index\": \"feature\"}),\n",
        "    x=\"negative_words\",\n",
        "    y=\"positive_words\",\n",
        "    marginal_x=\"histogram\",\n",
        "    marginal_y=\"histogram\",\n",
        "    labels={\n",
        "        \"starts_with_space\": \"Starts with Space\",\n",
        "        \"starts_with_capital\": \"Starts with Capital\",\n",
        "    },\n",
        "    title=\"Enrichment Scores for Starts with Space vs Starts with Capital\",\n",
        "    height=800,\n",
        "    width=800,\n",
        "    hover_name=\"feature\",\n",
        ")\n",
        "# reduce point size on the scatter only\n",
        "fig.update_traces(marker=dict(size=2), selector=dict(mode=\"markers\"))\n",
        "fig.show()"
      ]
    },
    {
      "cell_type": "code",
      "execution_count": null,
      "metadata": {
        "id": "5otoyu2SBSdF"
      },
      "outputs": [],
      "source": [
        "token_sets_index = [\"contains_close_bracket\", \"contains_open_bracket\"]\n",
        "token_set_selected = {\n",
        "    k: set(v) for k, v in all_token_sets.items() if k in token_sets_index\n",
        "}\n",
        "df_enrichment_scores = get_enrichment_df(\n",
        "    dec_projection_onto_W_U, features_ordered_by_skew, token_set_selected\n",
        ")\n",
        "manhattan_plot_enrichment_scores(df_enrichment_scores).show()"
      ]
    },
    {
      "cell_type": "code",
      "execution_count": null,
      "metadata": {
        "id": "JlN-ScWhBSdF"
      },
      "outputs": [],
      "source": [
        "token_sets_index = [\n",
        "    \"1910's\",\n",
        "    \"1920's\",\n",
        "    \"1930's\",\n",
        "    \"1940's\",\n",
        "    \"1950's\",\n",
        "    \"1960's\",\n",
        "    \"1970's\",\n",
        "    \"1980's\",\n",
        "    \"1990's\",\n",
        "    \"2000's\",\n",
        "    \"2010's\",\n",
        "]\n",
        "token_set_selected = {\n",
        "    k: set(v) for k, v in all_token_sets.items() if k in token_sets_index\n",
        "}\n",
        "df_enrichment_scores = get_enrichment_df(\n",
        "    dec_projection_onto_W_U, features_ordered_by_skew, token_set_selected\n",
        ")\n",
        "manhattan_plot_enrichment_scores(df_enrichment_scores).show()"
      ]
    },
    {
      "cell_type": "code",
      "execution_count": null,
      "metadata": {
        "id": "SDmCs9OhBSdF"
      },
      "outputs": [],
      "source": [
        "token_sets_index = [\"positive_words\", \"negative_words\"]\n",
        "token_set_selected = {\n",
        "    k: set(v) for k, v in all_token_sets.items() if k in token_sets_index\n",
        "}\n",
        "df_enrichment_scores = get_enrichment_df(\n",
        "    dec_projection_onto_W_U, features_ordered_by_skew, token_set_selected\n",
        ")\n",
        "manhattan_plot_enrichment_scores(df_enrichment_scores, label_threshold=0.98).show()"
      ]
    },
    {
      "cell_type": "code",
      "execution_count": null,
      "metadata": {
        "id": "ilzC33VlBSdF"
      },
      "outputs": [],
      "source": [
        "token_sets_index = [\"boys_names\", \"girls_names\"]\n",
        "token_set_selected = {\n",
        "    k: set(v) for k, v in all_token_sets.items() if k in token_sets_index\n",
        "}\n",
        "df_enrichment_scores = get_enrichment_df(\n",
        "    dec_projection_onto_W_U, features_ordered_by_skew, token_set_selected\n",
        ")\n",
        "manhattan_plot_enrichment_scores(df_enrichment_scores).show()"
      ]
    },
    {
      "cell_type": "code",
      "execution_count": null,
      "metadata": {
        "id": "D0mTCic7BSdG"
      },
      "outputs": [],
      "source": [
        "tmp_df = df_enrichment_scores.apply(lambda x: -1 * np.log(1 - x)).T\n",
        "color = (\n",
        "    W_U_stats_df_dec.sort_values(\"skewness\", ascending=False)\n",
        "    .head(5000)[\"skewness\"]\n",
        "    .values\n",
        ")\n",
        "fig = px.scatter(\n",
        "    tmp_df.reset_index().rename(columns={\"index\": \"feature\"}),\n",
        "    x=\"boys_names\",\n",
        "    y=\"girls_names\",\n",
        "    marginal_x=\"histogram\",\n",
        "    marginal_y=\"histogram\",\n",
        "    # color = color,\n",
        "    labels={\n",
        "        \"boys_names\": \"Enrichment Score (Boys Names)\",\n",
        "        \"girls_names\": \"Enrichment Score (Girls Names)\",\n",
        "    },\n",
        "    height=600,\n",
        "    width=800,\n",
        "    hover_name=\"feature\",\n",
        ")\n",
        "# reduce point size on the scatter only\n",
        "fig.update_traces(marker=dict(size=3), selector=dict(mode=\"markers\"))\n",
        "# annotate any features where the absolute distance between boys names and girls names > 3\n",
        "for feature in df_enrichment_scores.columns:\n",
        "    if abs(tmp_df[\"boys_names\"][feature] - tmp_df[\"girls_names\"][feature]) > 2.9:\n",
        "        fig.add_annotation(\n",
        "            x=tmp_df[\"boys_names\"][feature] - 0.4,\n",
        "            y=tmp_df[\"girls_names\"][feature] + 0.1,\n",
        "            text=f\"{feature}\",\n",
        "            showarrow=False,\n",
        "        )\n",
        "\n",
        "\n",
        "fig.show()"
      ]
    },
    {
      "cell_type": "markdown",
      "metadata": {
        "id": "VwVcsxnkBSdG"
      },
      "source": [
        "## Digging into Particular Features\n",
        "\n",
        "When we do these enrichments, I generate the logit weight histograms by category using the following function. It's important to make sure the categories you group by are in the columns of df_enrichment_scores.\n"
      ]
    },
    {
      "cell_type": "code",
      "execution_count": null,
      "metadata": {
        "id": "GgndTFdFBSdG"
      },
      "outputs": [],
      "source": [
        "for category in [\"boys_names\"]:\n",
        "    plot_top_k_feature_projections_by_token_and_category(\n",
        "        token_set_selected,\n",
        "        df_enrichment_scores,\n",
        "        category=category,\n",
        "        dec_projection_onto_W_U=dec_projection_onto_W_U,\n",
        "        model=model,\n",
        "        log_y=False,\n",
        "        histnorm=None,\n",
        "    )"
      ]
    },
    {
      "cell_type": "markdown",
      "metadata": {
        "id": "AKP3u0D2BSdG"
      },
      "source": [
        "# Appendix Results: Logit Weight distribution Statistics Accross All Layers\n"
      ]
    },
    {
      "cell_type": "code",
      "execution_count": null,
      "metadata": {
        "id": "Vhht2iCQBSdG"
      },
      "outputs": [],
      "source": [
        "W_U_stats_df_dec_all_layers = get_all_stats_dfs(\n",
        "    gpt2_small_sparse_autoencoders, gpt2_small_sae_sparsities, model, cosine_sim=True\n",
        ")\n",
        "\n",
        "display(W_U_stats_df_dec_all_layers.shape)\n",
        "display(W_U_stats_df_dec_all_layers.head())"
      ]
    },
    {
      "cell_type": "code",
      "execution_count": null,
      "metadata": {
        "id": "ok3DgORLBSdG"
      },
      "outputs": [],
      "source": [
        "# Let's plot the percentiles of the skewness and kurtosis by layer\n",
        "tmp_df = W_U_stats_df_dec_all_layers.groupby(\"layer\")[\"skewness\"].describe(\n",
        "    percentiles=[0.01, 0.05, 0.10, 0.25, 0.5, 0.75, 0.9, 0.95, 0.99]\n",
        ")\n",
        "tmp_df = tmp_df[[\"1%\", \"5%\", \"10%\", \"25%\", \"50%\", \"75%\", \"90%\", \"95%\", \"99%\"]]\n",
        "\n",
        "fig = px.area(\n",
        "    tmp_df,\n",
        "    title=\"Skewness by Layer\",\n",
        "    width=800,\n",
        "    height=600,\n",
        "    color_discrete_sequence=px.colors.sequential.Turbo,\n",
        ").show()\n",
        "\n",
        "\n",
        "tmp_df = W_U_stats_df_dec_all_layers.groupby(\"layer\")[\"kurtosis\"].describe(\n",
        "    percentiles=[0.01, 0.05, 0.10, 0.25, 0.5, 0.75, 0.9, 0.95, 0.99]\n",
        ")\n",
        "tmp_df = tmp_df[[\"1%\", \"5%\", \"10%\", \"25%\", \"50%\", \"75%\", \"90%\", \"95%\", \"99%\"]]\n",
        "\n",
        "fig = px.area(\n",
        "    tmp_df,\n",
        "    title=\"Kurtosis by Layer\",\n",
        "    width=800,\n",
        "    height=600,\n",
        "    color_discrete_sequence=px.colors.sequential.Turbo,\n",
        ")\n",
        "\n",
        "fig.show()"
      ]
    },
    {
      "cell_type": "code",
      "execution_count": null,
      "metadata": {
        "id": "UOkRZiunBSdG"
      },
      "outputs": [],
      "source": [
        "# let's make a pretty color scheme\n",
        "from plotly.colors import n_colors\n",
        "\n",
        "colors = n_colors(\"rgb(5, 200, 200)\", \"rgb(200, 10, 10)\", 13, colortype=\"rgb\")\n",
        "\n",
        "# Make a box plot of the skewness by layer\n",
        "fig = px.box(\n",
        "    W_U_stats_df_dec_all_layers,\n",
        "    x=\"layer\",\n",
        "    y=\"skewness\",\n",
        "    color=\"layer\",\n",
        "    color_discrete_sequence=colors,\n",
        "    height=600,\n",
        "    width=1200,\n",
        "    title=\"Skewness cos(W_U,W_dec) by Layer in GPT2 Small Residual Stream SAEs\",\n",
        "    labels={\"layer\": \"Layer\", \"skewnss\": \"Skewness\"},\n",
        ")\n",
        "fig.update_xaxes(showticklabels=True, dtick=1)\n",
        "\n",
        "# increase font size\n",
        "fig.update_layout(font=dict(size=16))\n",
        "fig.show()\n",
        "\n",
        "# Make a box plot of the skewness by layer\n",
        "fig = px.box(\n",
        "    W_U_stats_df_dec_all_layers,\n",
        "    x=\"layer\",\n",
        "    y=\"kurtosis\",\n",
        "    color=\"layer\",\n",
        "    color_discrete_sequence=colors,\n",
        "    height=600,\n",
        "    width=1200,\n",
        "    log_y=True,\n",
        "    title=\"log kurtosis cos(W_U,W_dec) by Layer in GPT2 Small Residual Stream SAEs\",\n",
        "    labels={\"layer\": \"Layer\", \"kurtosis\": \"Log Kurtosis\"},\n",
        ")\n",
        "fig.update_xaxes(showticklabels=True, dtick=1)\n",
        "\n",
        "# increase font size\n",
        "fig.update_layout(font=dict(size=16))\n",
        "fig.show()"
      ]
    },
    {
      "cell_type": "code",
      "execution_count": null,
      "metadata": {
        "id": "hYNYdY3wBSdG"
      },
      "outputs": [],
      "source": [
        "# scatter\n",
        "fig = px.scatter(\n",
        "    W_U_stats_df_dec_all_layers[W_U_stats_df_dec_all_layers.log_feature_sparsity >= -9],\n",
        "    # W_U_stats_df_dec_all_layers[W_U_stats_df_dec_all_layers.layer == 8],\n",
        "    x=\"skewness\",\n",
        "    y=\"kurtosis\",\n",
        "    color=\"std\",\n",
        "    color_continuous_scale=\"Portland\",\n",
        "    hover_name=\"feature\",\n",
        "    # color_continuous_midpoint = 0,\n",
        "    # range_color = [-4,-1],\n",
        "    log_y=True,\n",
        "    height=800,\n",
        "    # width = 2000,\n",
        "    # facet_col=\"layer\",\n",
        "    # facet_col_wrap=5,\n",
        "    animation_frame=\"layer\",\n",
        ")\n",
        "fig.update_yaxes(matches=None)\n",
        "fig.for_each_yaxis(lambda yaxis: yaxis.update(showticklabels=True))\n",
        "\n",
        "# decrease point size\n",
        "fig.update_traces(marker=dict(size=5))\n",
        "fig.show()\n",
        "fig.write_html(\"skewness_kurtosis_scatter_all_layers.html\")"
      ]
    }
  ],
  "metadata": {
    "accelerator": "GPU",
    "colab": {
      "gpuType": "T4",
      "machine_shape": "hm",
      "provenance": []
    },
    "kernelspec": {
      "display_name": "Python 3",
      "name": "python3"
    },
    "language_info": {
      "codemirror_mode": {
        "name": "ipython",
        "version": 3
      },
      "file_extension": ".py",
      "mimetype": "text/x-python",
      "name": "python",
      "nbconvert_exporter": "python",
      "pygments_lexer": "ipython3",
      "version": "3.12.5"
    }
  },
  "nbformat": 4,
  "nbformat_minor": 0
}
