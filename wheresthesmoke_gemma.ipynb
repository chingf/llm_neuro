{
 "cells": [
  {
   "cell_type": "code",
   "execution_count": 6,
   "metadata": {},
   "outputs": [
    {
     "name": "stderr",
     "output_type": "stream",
     "text": [
      "/n/home04/cfang/.conda/envs/sae/lib/python3.12/site-packages/tqdm/auto.py:21: TqdmWarning: IProgress not found. Please update jupyter and ipywidgets. See https://ipywidgets.readthedocs.io/en/stable/user_install.html\n",
      "  from .autonotebook import tqdm as notebook_tqdm\n"
     ]
    }
   ],
   "source": [
    "#### Dependencies ####\n",
    "\n",
    "import numpy as np\n",
    "import logging\n",
    "import sys\n",
    "import time\n",
    "import joblib\n",
    "import matplotlib.pyplot as plt\n",
    "import torch\n",
    "from transformers import AutoTokenizer, AutoModelForCausalLM # Only necessary for feature extraction.\n",
    "\n",
    "# Repository imports\n",
    "from ridge_utils.ridge import bootstrap_ridge\n",
    "import ridge_utils.npp\n",
    "from ridge_utils.util import make_delayed\n",
    "from ridge_utils.dsutils import make_word_ds\n",
    "from ridge_utils.DataSequence import DataSequence\n",
    "from ridge_utils.tokenization_helpers import generate_efficient_feat_dicts_opt\n",
    "from ridge_utils.tokenization_helpers import convert_to_feature_mats_opt\n",
    "\n",
    "### Some extra helper functions\n",
    "\n",
    "zscore = lambda v: (v - v.mean(0)) / v.std(0)\n",
    "zscore.__doc__ = \"\"\"Z-scores (standardizes) each column of [v].\"\"\"\n",
    "zs = zscore\n",
    "\n",
    "## Matrix corr -- find correlation between each column of c1 and the corresponding column of c2\n",
    "mcorr = lambda c1, c2: (zs(c1) * zs(c2)).mean(0)\n",
    "mcorr.__doc__ = \"\"\"Matrix correlation. Find the correlation between each column of [c1] and the corresponding column of [c2].\"\"\"\n",
    "\n",
    "### Ignore irrelevant warnings that muck up the notebook\n",
    "import warnings\n",
    "\n",
    "if not sys.warnoptions:\n",
    "    warnings.simplefilter(\"ignore\")\n",
    "\n",
    "# Some parameters\n",
    "NUM_VOX = 95556 # Number of voxels in the subject we plan to use\n",
    "NUM_TRS = 790 # Number of TRs across 3 test stories\n",
    "trim_start = 50 # Trim 50 TRs off the start of the story\n",
    "trim_end = 5 # Trim 5 off the back\n",
    "ndelays = 4 # We use 4 FIR delays (2 seconds, 4 seconds, 6 seconds, 8 seconds)\n",
    "delays = range(1, ndelays + 1)"
   ]
  },
  {
   "cell_type": "code",
   "execution_count": 4,
   "metadata": {},
   "outputs": [],
   "source": [
    "from configs import engram_dir, allstories\n",
    "import os\n",
    "\n",
    "box_dir = os.path.join(engram_dir, 'huth_box/')"
   ]
  },
  {
   "cell_type": "markdown",
   "metadata": {},
   "source": [
    "# Load text data"
   ]
  },
  {
   "cell_type": "code",
   "execution_count": 7,
   "metadata": {},
   "outputs": [
    {
     "name": "stdout",
     "output_type": "stream",
     "text": [
      "Loaded text data\n"
     ]
    }
   ],
   "source": [
    "box_dir = os.path.join(engram_dir, 'huth_box/')\n",
    "grids = joblib.load(os.path.join(box_dir, \"grids_huge.jbl\")) # Load TextGrids containing story annotations\n",
    "trfiles = joblib.load(os.path.join(box_dir, \"trfiles_huge.jbl\")) # Load TRFiles containing TR information\n",
    "\n",
    "wordseqs = make_word_ds(grids, trfiles)\n",
    "for story in wordseqs.keys():\n",
    "    wordseqs[story].data = [i.strip() for i in wordseqs[story].data]\n",
    "print(\"Loaded text data\")\n",
    "test_stories = ['wheretheressmoke']"
   ]
  },
  {
   "cell_type": "markdown",
   "metadata": {},
   "source": [
    "# Load LLM"
   ]
  },
  {
   "cell_type": "code",
   "execution_count": 9,
   "metadata": {},
   "outputs": [
    {
     "name": "stderr",
     "output_type": "stream",
     "text": [
      "WARNING:root:You tried to specify center_unembed=True for a model using logit softcap, but this can't be done! Softcapping is not invariant upon adding a constant Setting center_unembed=False instead.\n",
      "Loading checkpoint shards: 100%|██████████| 3/3 [00:00<00:00,  3.34it/s]\n",
      "WARNING:root:You are not using LayerNorm, so the writing weights can't be centered! Skipping\n"
     ]
    },
    {
     "name": "stdout",
     "output_type": "stream",
     "text": [
      "Loaded pretrained model gemma-2-2b into HookedTransformer\n"
     ]
    }
   ],
   "source": [
    "from datasets import load_dataset\n",
    "from transformer_lens import HookedTransformer\n",
    "from sae_lens import SAE\n",
    "import torch\n",
    "\n",
    "from transformer_lens.utils import tokenize_and_concatenate\n",
    "from huggingface_hub import login\n",
    "from transformer_lens.components import TransformerBlock\n",
    "from configs import huggingface_token\n",
    "\n",
    "login(token=huggingface_token)\n",
    "device = \"cuda\" if torch.cuda.is_available() else \"cpu\"\n",
    "model = HookedTransformer.from_pretrained(\"gemma-2-2b\", device=device)\n",
    "tokenizer = model.tokenizer\n",
    "def override_to_local_attn(model, window_size=512):\n",
    "    for b in model.blocks:  # Possibly a cleaner way by correctly using 'use_local_attn'\n",
    "        if isinstance(b, TransformerBlock):\n",
    "            n_ctx = b.attn.cfg.n_ctx\n",
    "            attn_mask = torch.zeros((n_ctx, n_ctx)).bool()\n",
    "            for i in range(n_ctx):\n",
    "                start_idx = max(0, i-window_size)\n",
    "                attn_mask[i, start_idx:i+1] = True\n",
    "            b.attn.mask = attn_mask.to(device)\n",
    "\n",
    "override_to_local_attn(model)\n",
    "def find_word_boundaries(text_data, tokenizer):\n",
    "    full_story = \" \".join(text_data).strip()\n",
    "    tokenized_story = tokenizer(full_story)['input_ids']\n",
    "\n",
    "    word_boundaries = []  # In the tokenized story\n",
    "    curr_word_idx = 0\n",
    "    curr_word = text_data[curr_word_idx]\n",
    "    curr_token_set = []\n",
    "\n",
    "    if curr_word == '':\n",
    "        curr_word_idx += 1\n",
    "        curr_word = text_data[curr_word_idx]\n",
    "        word_boundaries.append(1)\n",
    "\n",
    "    for token_idx, token in enumerate(tokenized_story):\n",
    "        curr_token_set.append(token)\n",
    "        detokenized_chunk = tokenizer.decode(curr_token_set)\n",
    "        if curr_word in detokenized_chunk:\n",
    "            word_boundaries.append(token_idx)\n",
    "            curr_word_idx += 1\n",
    "            if curr_word_idx == len(text_data):\n",
    "                break\n",
    "            curr_word = text_data[curr_word_idx]\n",
    "            curr_token_set = []\n",
    "\n",
    "            if curr_word == '':  # Edge case\n",
    "                word_boundaries.append(token_idx)\n",
    "                curr_word_idx += 1\n",
    "                if curr_word_idx == len(text_data):\n",
    "                    break\n",
    "                curr_word = text_data[curr_word_idx]\n",
    "\n",
    "    return tokenized_story, word_boundaries"
   ]
  },
  {
   "cell_type": "code",
   "execution_count": 10,
   "metadata": {},
   "outputs": [
    {
     "name": "stdout",
     "output_type": "stream",
     "text": [
      "(251, 2304)\n"
     ]
    }
   ],
   "source": [
    "llm_test_responses = []\n",
    "for test_story in test_stories:\n",
    "    ws = wordseqs[test_story]\n",
    "    text_data = ws.data\n",
    "    tokenized_story, word_boundaries = find_word_boundaries(text_data, tokenizer)\n",
    "    with torch.no_grad():\n",
    "        _, cache = model.run_with_cache(\n",
    "            torch.tensor(tokenized_story).to(device),\n",
    "            prepend_bos=True,\n",
    "            names_filter=lambda name: name.startswith('blocks.7.hook_resid_post'),\n",
    "        )\n",
    "    llm_response = cache['blocks.7.hook_resid_post'][0, word_boundaries, :]\n",
    "    llm_data_seq = DataSequence(llm_response.cpu().numpy(), ws.split_inds, ws.data_times, ws.tr_times)\n",
    "    interp_llm_response = llm_data_seq.chunksums('lanczos', window=3)\n",
    "    interp_llm_response = ridge_utils.npp.zs(interp_llm_response[10:-5])\n",
    "    llm_test_responses.append(interp_llm_response[40:])\n",
    "\n",
    "llm_test_responses = np.vstack(llm_test_responses)\n",
    "print(llm_test_responses.shape)\n",
    "del cache\n",
    "torch.cuda.empty_cache()"
   ]
  },
  {
   "cell_type": "code",
   "execution_count": 13,
   "metadata": {},
   "outputs": [],
   "source": [
    "X_test = make_delayed(llm_test_responses, delays)"
   ]
  },
  {
   "cell_type": "markdown",
   "metadata": {},
   "source": [
    "# Load fMRI data"
   ]
  },
  {
   "cell_type": "code",
   "execution_count": 26,
   "metadata": {},
   "outputs": [],
   "source": [
    "tensessions = joblib.load(os.path.join(box_dir, \"stored_activations\", \"tensessions_wheretheressmoke_S03.jbl\"))"
   ]
  },
  {
   "cell_type": "markdown",
   "metadata": {},
   "source": [
    "# Get Model predictions"
   ]
  },
  {
   "cell_type": "code",
   "execution_count": 16,
   "metadata": {},
   "outputs": [],
   "source": [
    "np.random.seed(0)\n",
    "selected_features = np.random.choice(tensessions.shape[-1], size=5000, replace=False)\n",
    "np.random.seed()"
   ]
  },
  {
   "cell_type": "code",
   "execution_count": 17,
   "metadata": {},
   "outputs": [],
   "source": [
    "import pickle\n",
    "with open('gemma_regression_weights.pkl', 'rb') as f:\n",
    "    wt = pickle.load(f)\n"
   ]
  },
  {
   "cell_type": "code",
   "execution_count": 24,
   "metadata": {},
   "outputs": [],
   "source": [
    "# Dot the weights with the features to get voxelwise model predictions\n",
    "pred = (wt @ X_test.T).T"
   ]
  },
  {
   "cell_type": "markdown",
   "metadata": {},
   "source": [
    "# Compare to fMRI data"
   ]
  },
  {
   "cell_type": "code",
   "execution_count": 29,
   "metadata": {},
   "outputs": [],
   "source": [
    "_pred = pred\n",
    "_tensessions = tensessions[:, 40:, selected_features]\n"
   ]
  },
  {
   "cell_type": "code",
   "execution_count": 30,
   "metadata": {},
   "outputs": [],
   "source": [
    "def spe_and_cc_norm(orig_data, data_pred, data_norm=True, max_flooring=None):\n",
    "    '''\n",
    "    Computes the signal power explained and the cc_norm of a model given the observed and predicted values\n",
    "    Assumes normalization unless data_norm is set to False\n",
    "    \n",
    "    orig_data: 3D numpy array (trials, timepoints, voxels)\n",
    "    \n",
    "    data_pred: 2D numpy array (timepoints, voxels)\n",
    "    \n",
    "    data_norm: bool -> Set to False if not pre-normalized\n",
    "    \n",
    "    max_flooring: None/float (0-1) -> If not None, compute cc_norm in an alternate way that floors cc_max by max_flooring.\n",
    "    This is helpful to clean up bad voxels that are not at all language selective.\n",
    "    \n",
    "    According to Schoppe: https://www.frontiersin.org/articles/10.3389/fncom.2016.00010/full\n",
    "    '''\n",
    "    y = np.mean(orig_data, axis=0)\n",
    "    num_trials = len(orig_data)\n",
    "    if not data_norm:\n",
    "        variance_across_time = np.var(orig_data, axis=1, ddof=1)\n",
    "        TP = np.mean(variance_across_time, axis=0)\n",
    "    else:\n",
    "        TP = np.zeros(orig_data.shape[2]) + 1\n",
    "    SP = (1 / (num_trials-1)) * ((num_trials * np.var(y, axis=0, ddof=1)) - TP) \n",
    "    SPE_num = (np.var(y, axis=0, ddof=1) - np.var(y - data_pred, axis=0, ddof=1)) \n",
    "    SPE = (np.var(y, axis=0, ddof=1) - np.var(y - data_pred, axis=0, ddof=1)) / SP\n",
    "    y_flip = np.swapaxes(y, axis1=0, axis2=1)\n",
    "    data_flip = np.swapaxes(data_pred, axis1=0, axis2=1)\n",
    "    covs = np.zeros(y_flip.shape[0])\n",
    "    for i, row in enumerate(y_flip):\n",
    "        covs[i] = np.cov(y_flip[i], data_flip[i])[0][1]\n",
    "    cc_norm =  np.sqrt(1/SP) * (covs / np.sqrt(np.var(data_pred, axis=0, ddof=1)))\n",
    "    cc_max = None\n",
    "    if max_flooring is not None:\n",
    "        cc_max = np.nan_to_num(1 / (np.sqrt(1 + ((1/num_trials) * ((TP/SP)-1)))))\n",
    "        #cc_max = np.maximum(cc_max, np.zeros(cc_max.shape) + max_flooring)\n",
    "        corrs = np.zeros(y_flip.shape[0])\n",
    "        for i, row in enumerate(y_flip):\n",
    "            corrs[i] = np.corrcoef(y_flip[i], data_flip[i])[0][1]\n",
    "        cc_norm = corrs / cc_max\n",
    "    return SPE, cc_norm, cc_max, corrs\n"
   ]
  },
  {
   "cell_type": "code",
   "execution_count": 31,
   "metadata": {},
   "outputs": [],
   "source": [
    "\n",
    "SPE, cc_norm, cc_max, corrs_unnorm = spe_and_cc_norm(_tensessions, _pred, max_flooring=0.25)\n",
    "\n"
   ]
  },
  {
   "cell_type": "code",
   "execution_count": 32,
   "metadata": {},
   "outputs": [
    {
     "name": "stdout",
     "output_type": "stream",
     "text": [
      "[0.46675302 0.32831316 0.45939534 ... 0.5262881  0.69162531 0.79441926]\n",
      "[0.78707599 0.44049137 0.48035841 ... 0.66926356 0.54646858 0.20779704]\n",
      "[0.3673701  0.14461911 0.22067442 ... 0.35222545 0.3779515  0.16507797]\n"
     ]
    }
   ],
   "source": [
    "print(cc_norm)\n",
    "print(cc_max)\n",
    "print(corrs_unnorm)\n"
   ]
  },
  {
   "cell_type": "code",
   "execution_count": 35,
   "metadata": {},
   "outputs": [],
   "source": [
    "cc_norm = np.array(cc_norm)"
   ]
  },
  {
   "cell_type": "code",
   "execution_count": 36,
   "metadata": {},
   "outputs": [
    {
     "name": "stdout",
     "output_type": "stream",
     "text": [
      "615\n",
      "32\n"
     ]
    }
   ],
   "source": [
    "print((cc_norm == np.inf).sum())\n",
    "print((cc_norm == -np.inf).sum())"
   ]
  },
  {
   "cell_type": "code",
   "execution_count": 38,
   "metadata": {},
   "outputs": [
    {
     "data": {
      "image/png": "[encoded data removed]",
      "text/plain": [
       "<Figure size 800x300 with 1 Axes>"
      ]
     },
     "metadata": {},
     "output_type": "display_data"
    },
    {
     "name": "stdout",
     "output_type": "stream",
     "text": [
      "Mean cc_norm: 0.535\n",
      "Median cc_norm: 0.491\n",
      "Std cc_norm: 0.522\n"
     ]
    }
   ],
   "source": [
    "import matplotlib.pyplot as plt\n",
    "\n",
    "plt.figure(figsize=(8,3))\n",
    "cc_norm_finite = cc_norm[~np.isinf(cc_norm)]\n",
    "plt.hist(cc_norm_finite, bins=50)\n",
    "plt.title('Histogram of cc_norm')\n",
    "plt.xlabel('cc_norm value')\n",
    "plt.ylabel('Count')\n",
    "plt.grid(True)\n",
    "plt.show()\n",
    "\n",
    "print(f\"Mean cc_norm: {np.mean(cc_norm_finite):.3f}\")\n",
    "print(f\"Median cc_norm: {np.median(cc_norm_finite):.3f}\") \n",
    "print(f\"Std cc_norm: {np.std(cc_norm_finite):.3f}\")"
   ]
  }
 ],
 "metadata": {
  "kernelspec": {
   "display_name": "sae",
   "language": "python",
   "name": "python3"
  },
  "language_info": {
   "codemirror_mode": {
    "name": "ipython",
    "version": 3
   },
   "file_extension": ".py",
   "mimetype": "text/x-python",
   "name": "python",
   "nbconvert_exporter": "python",
   "pygments_lexer": "ipython3",
   "version": "3.12.5"
  }
 },
 "nbformat": 4,
 "nbformat_minor": 2
}
