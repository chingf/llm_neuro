{
 "cells": [
  {
   "cell_type": "code",
   "execution_count": 1,
   "metadata": {},
   "outputs": [
    {
     "name": "stderr",
     "output_type": "stream",
     "text": [
      "/n/home04/cfang/.conda/envs/sae/lib/python3.12/site-packages/tqdm/auto.py:21: TqdmWarning: IProgress not found. Please update jupyter and ipywidgets. See https://ipywidgets.readthedocs.io/en/stable/user_install.html\n",
      "  from .autonotebook import tqdm as notebook_tqdm\n"
     ]
    }
   ],
   "source": [
    "#### Dependencies ####\n",
    "\n",
    "import numpy as np\n",
    "import logging\n",
    "import sys\n",
    "import time\n",
    "import joblib\n",
    "import matplotlib.pyplot as plt\n",
    "import torch\n",
    "from transformers import AutoTokenizer, AutoModelForCausalLM # Only necessary for feature extraction.\n",
    "\n",
    "# Repository imports\n",
    "from ridge_utils.ridge import bootstrap_ridge\n",
    "import ridge_utils.npp\n",
    "from ridge_utils.util import make_delayed\n",
    "from ridge_utils.dsutils import make_word_ds\n",
    "from ridge_utils.DataSequence import DataSequence\n",
    "from ridge_utils.tokenization_helpers import generate_efficient_feat_dicts_opt\n",
    "from ridge_utils.tokenization_helpers import convert_to_feature_mats_opt\n",
    "\n",
    "### Some extra helper functions\n",
    "\n",
    "zscore = lambda v: (v - v.mean(0)) / v.std(0)\n",
    "zscore.__doc__ = \"\"\"Z-scores (standardizes) each column of [v].\"\"\"\n",
    "zs = zscore\n",
    "\n",
    "## Matrix corr -- find correlation between each column of c1 and the corresponding column of c2\n",
    "mcorr = lambda c1, c2: (zs(c1) * zs(c2)).mean(0)\n",
    "mcorr.__doc__ = \"\"\"Matrix correlation. Find the correlation between each column of [c1] and the corresponding column of [c2].\"\"\"\n",
    "\n",
    "### Ignore irrelevant warnings that muck up the notebook\n",
    "import warnings\n",
    "\n",
    "if not sys.warnoptions:\n",
    "    warnings.simplefilter(\"ignore\")\n",
    "\n",
    "# Some parameters\n",
    "NUM_VOX = 95556 # Number of voxels in the subject we plan to use\n",
    "NUM_TRS = 790 # Number of TRs across 3 test stories\n",
    "trim_start = 50 # Trim 50 TRs off the start of the story\n",
    "trim_end = 5 # Trim 5 off the back\n",
    "ndelays = 4 # We use 4 FIR delays (2 seconds, 4 seconds, 6 seconds, 8 seconds)\n",
    "delays = range(1, ndelays + 1)"
   ]
  },
  {
   "cell_type": "code",
   "execution_count": 2,
   "metadata": {},
   "outputs": [],
   "source": [
    "from configs import engram_dir, allstories\n",
    "import os\n",
    "\n",
    "box_dir = os.path.join(engram_dir, 'huth_box/')"
   ]
  },
  {
   "cell_type": "code",
   "execution_count": 3,
   "metadata": {},
   "outputs": [],
   "source": [
    "### Running a basic semantic encoding model built from OPT layer 33 ###\n",
    "\n",
    "# We are going to test our model on one of our held-out stories, \"wheretheressmoke\".\n",
    "Tstories = ['wheretheressmoke']\n",
    "\n",
    "# Load the precomputed OPT model hidden states from the Box\n",
    "# From semantic_features folder\n",
    "features = joblib.load(os.path.join(box_dir, \"stored_activations\", \"downsampled_featureseqs_opt33b_layer33.jbl\"))\n",
    "\n",
    "# Trim and zscore the model features\n",
    "Tstim = np.nan_to_num(np.vstack([ridge_utils.npp.zs(features[story][trim_start:-trim_end]) for story in Tstories]))\n",
    "\n",
    "# Add FIR delays\n",
    "delTstim = make_delayed(Tstim, delays)\n",
    "\n",
    "# Load the linear encoding model weights for subject S02\n",
    "# From ridge_weights folder\n",
    "wt = joblib.load(os.path.join(box_dir, \"stored_activations\", \"S3_opt33b_wts_layer33.jbl.jbl\"))\n",
    "\n",
    "# Dot the weights with the features to get voxelwise model predictions\n",
    "pred = np.dot(delTstim,  wt)"
   ]
  },
  {
   "cell_type": "code",
   "execution_count": 4,
   "metadata": {},
   "outputs": [
    {
     "data": {
      "text/plain": [
       "(28672, 95556)"
      ]
     },
     "execution_count": 4,
     "metadata": {},
     "output_type": "execute_result"
    }
   ],
   "source": [
    "wt.shape"
   ]
  },
  {
   "cell_type": "code",
   "execution_count": 5,
   "metadata": {},
   "outputs": [],
   "source": [
    "tensessions = joblib.load(os.path.join(box_dir, \"stored_activations\", \"tensessions_wheretheressmoke_S03.jbl\"))"
   ]
  },
  {
   "cell_type": "code",
   "execution_count": 6,
   "metadata": {},
   "outputs": [
    {
     "data": {
      "text/plain": [
       "(10, 291, 95556)"
      ]
     },
     "execution_count": 6,
     "metadata": {},
     "output_type": "execute_result"
    }
   ],
   "source": [
    "tensessions.shape"
   ]
  },
  {
   "cell_type": "code",
   "execution_count": 7,
   "metadata": {},
   "outputs": [
    {
     "data": {
      "text/plain": [
       "(251, 95556)"
      ]
     },
     "execution_count": 7,
     "metadata": {},
     "output_type": "execute_result"
    }
   ],
   "source": [
    "pred.shape"
   ]
  },
  {
   "cell_type": "code",
   "execution_count": 8,
   "metadata": {},
   "outputs": [],
   "source": [
    "#np.random.seed(0)\n",
    "#selected_features = np.random.choice(pred.shape[1], size=5000, replace=False)\n",
    "#np.random.seed()\n",
    "import pickle\n",
    "with open(os.path.join('pickles', 'voxel_indices', 'broca.pkl'), 'rb') as f:\n",
    "    broca_voxel_indices = pickle.load(f)\n",
    "selected_features = broca_voxel_indices\n",
    "_pred = pred[:, selected_features]\n",
    "_tensessions = tensessions[:, 40:, selected_features]\n"
   ]
  },
  {
   "cell_type": "code",
   "execution_count": 9,
   "metadata": {},
   "outputs": [],
   "source": [
    "def spe_and_cc_norm(orig_data, data_pred, data_norm=True, max_flooring=None):\n",
    "    '''\n",
    "    Computes the signal power explained and the cc_norm of a model given the observed and predicted values\n",
    "    Assumes normalization unless data_norm is set to False\n",
    "    \n",
    "    orig_data: 3D numpy array (trials, timepoints, voxels)\n",
    "    \n",
    "    data_pred: 2D numpy array (timepoints, voxels)\n",
    "    \n",
    "    data_norm: bool -> Set to False if not pre-normalized\n",
    "    \n",
    "    max_flooring: None/float (0-1) -> If not None, compute cc_norm in an alternate way that floors cc_max by max_flooring.\n",
    "    This is helpful to clean up bad voxels that are not at all language selective.\n",
    "    \n",
    "    According to Schoppe: https://www.frontiersin.org/articles/10.3389/fncom.2016.00010/full\n",
    "    '''\n",
    "    y = np.mean(orig_data, axis=0)\n",
    "    num_trials = len(orig_data)\n",
    "    if not data_norm:\n",
    "        variance_across_time = np.var(orig_data, axis=1, ddof=1)\n",
    "        TP = np.mean(variance_across_time, axis=0)\n",
    "    else:\n",
    "        TP = np.zeros(orig_data.shape[2]) + 1\n",
    "    SP = (1 / (num_trials-1)) * ((num_trials * np.var(y, axis=0, ddof=1)) - TP) \n",
    "    SPE_num = (np.var(y, axis=0, ddof=1) - np.var(y - data_pred, axis=0, ddof=1)) \n",
    "    SPE = (np.var(y, axis=0, ddof=1) - np.var(y - data_pred, axis=0, ddof=1)) / SP\n",
    "    y_flip = np.swapaxes(y, axis1=0, axis2=1)\n",
    "    data_flip = np.swapaxes(data_pred, axis1=0, axis2=1)\n",
    "    covs = np.zeros(y_flip.shape[0])\n",
    "    for i, row in enumerate(y_flip):\n",
    "        covs[i] = np.cov(y_flip[i], data_flip[i])[0][1]\n",
    "    cc_norm =  np.sqrt(1/SP) * (covs / np.sqrt(np.var(data_pred, axis=0, ddof=1)))\n",
    "    cc_max = None\n",
    "    if max_flooring is not None:\n",
    "        cc_max = np.nan_to_num(1 / (np.sqrt(1 + ((1/num_trials) * ((TP/SP)-1)))))\n",
    "        #cc_max = np.maximum(cc_max, np.zeros(cc_max.shape) + max_flooring)\n",
    "        corrs = np.zeros(y_flip.shape[0])\n",
    "        for i, row in enumerate(y_flip):\n",
    "            corrs[i] = np.corrcoef(y_flip[i], data_flip[i])[0][1]\n",
    "        cc_norm = corrs / cc_max\n",
    "    return SPE, cc_norm, cc_max, corrs\n"
   ]
  },
  {
   "cell_type": "code",
   "execution_count": 10,
   "metadata": {},
   "outputs": [],
   "source": [
    "SPE, cc_norm, cc_max, corrs_unnorm = spe_and_cc_norm(_tensessions, _pred, max_flooring=0.25)"
   ]
  },
  {
   "cell_type": "code",
   "execution_count": 11,
   "metadata": {},
   "outputs": [
    {
     "name": "stdout",
     "output_type": "stream",
     "text": [
      "[ 0.61864753  0.70564659  0.54069449  0.64574617  0.65036127  0.65642219\n",
      "  0.65298004  0.68013608  0.68919952  0.65417509  0.41365539  0.5503312\n",
      "  0.65203252  0.74522071  0.27789259  0.51786571  0.60265053  0.64376736\n",
      "  0.628657    0.67379833  0.49633735  0.44833172  0.61170132  0.63368885\n",
      "  0.56915442  0.66506397  0.69054598  0.62322516  0.68497944  0.69083157\n",
      "  0.34386051  0.58198397  0.65037242  0.6291568   0.37584149  0.56698197\n",
      "  0.66548632  0.72170229  0.79869322  0.54909943  0.37023722  0.57183403\n",
      "  0.66927916  0.72700931  0.55408853  0.707269    0.36969413  0.62543515\n",
      "  0.70779384  0.53129104  0.754358    0.63651082  0.60078871  0.68165929\n",
      "  0.6861154   0.72331235  0.6280033   0.55596497  0.68914654  0.63031043\n",
      "  0.66677646  0.56886885  0.53342506  0.69044955  0.16634174  0.33885641\n",
      "  0.41501642  0.53542685  0.57773145  0.3555121   0.51941336  0.7438797\n",
      "  0.7166381   0.74024667  0.62445424  0.60310177  0.72423665  0.86560444\n",
      "  0.65535647  0.74888351  0.58517375  0.64943689  0.68359803  0.73289365\n",
      "  0.78361123  0.72489021  0.68628199  0.62200633  0.58351919  0.69075324\n",
      "  0.83027318  0.50494871  0.21156504  0.56975501  0.17370447  0.38479163\n",
      "  2.63953149  0.62399038  0.47678397  0.83685832  0.62993011  0.71415301\n",
      "  0.67630694  0.78480646  0.71929397  0.26700968  0.84614864  0.77335818\n",
      "  0.71695173  0.74530041  0.65159046  0.48727273  0.36097024  0.60429912\n",
      "  0.78183077  0.70819125  0.69675032  0.73163118  0.77788438  0.71822124\n",
      "  0.72150866  0.68096809  0.61048805  0.64368588  0.61981948  0.68852557\n",
      "  0.68152854  0.58718257  0.63177619  0.5943438   0.75193492  0.64650354\n",
      "  0.54236393  0.42071262  0.77157645  0.60037079  0.49591767  0.57678865\n",
      "  0.77980551  0.65559418 -0.15678165  0.30547468  0.55385193  0.87429753\n",
      "  0.6734378   0.76109328  0.68929389  0.73389507  0.65522846  0.61586133\n",
      "  0.75508259  0.68121841  0.67018915  0.61982693  0.7178718   0.63066146\n",
      "  0.67369312  0.67549521  0.62193266  0.71830986  0.67625119  0.60651772\n",
      "  0.6199215   0.5565884   0.65950664  0.5289371   0.01316988  0.62592446\n",
      "  0.54424876  0.31090949  0.4041263   0.59826113  0.53835136  0.42803276\n",
      "  0.52247609  0.60036862  0.5542646   0.56725627  0.33613885  0.40554214\n",
      "  0.59316578  0.5070906   0.74420413  0.77816981  0.91549284  0.7604101\n",
      "  0.7489675   0.5772411   0.73469879  0.49784898  0.20243422  0.70284326\n",
      "  0.63223025]\n",
      "[0.78168785 0.86768797 0.70724159 0.71117326 0.77990634 0.71428058\n",
      " 0.85690083 0.75538097 0.86708023 0.79475811 0.71099544 0.76124187\n",
      " 0.83483865 0.81310797 0.73148555 0.75739109 0.77607119 0.66465082\n",
      " 0.77034572 0.74815521 0.55765959 0.46146596 0.78792306 0.8629479\n",
      " 0.46747439 0.82032869 0.85648268 0.68650094 0.83482614 0.86170124\n",
      " 0.55754285 0.69677406 0.80948579 0.72597947 0.52061513 0.7448038\n",
      " 0.79462102 0.47566373 0.45205101 0.68416412 0.65069664 0.78712524\n",
      " 0.70872957 0.58275748 0.66356231 0.71521156 0.76114683 0.72675848\n",
      " 0.65982908 0.53528387 0.78685826 0.71027791 0.72227679 0.75069265\n",
      " 0.8091982  0.78285588 0.70623367 0.71814822 0.85546716 0.84344116\n",
      " 0.88829722 0.81548933 0.81988576 0.82117346 0.40436239 0.75227039\n",
      " 0.73043765 0.69741455 0.60353308 0.24742534 0.58651677 0.58031141\n",
      " 0.48081422 0.2280298  0.35408894 0.78838328 0.75718263 0.35880602\n",
      " 0.77420544 0.87268663 0.46870193 0.7460303  0.68344965 0.80067104\n",
      " 0.59886116 0.77185818 0.63654894 0.74498584 0.59476319 0.80713152\n",
      " 0.67175296 0.46034284 0.33876025 0.67681494 0.51649295 0.2164507\n",
      " 0.06589128 0.679135   0.41053377 0.27012686 0.84968242 0.44144252\n",
      " 0.73903289 0.88639792 0.87605828 0.45573797 0.52847514 0.72460851\n",
      " 0.64856028 0.72428171 0.84068618 0.53084786 0.68272047 0.73087638\n",
      " 0.69431601 0.84718623 0.48501868 0.89221558 0.70850772 0.8919938\n",
      " 0.84136489 0.71928018 0.76354705 0.81387467 0.65104915 0.91040041\n",
      " 0.84784217 0.73704486 0.59677402 0.36795626 0.84677742 0.87612254\n",
      " 0.65119948 0.71811721 0.80365053 0.76688517 0.41898453 0.71124849\n",
      " 0.73568554 0.85404239 0.39831541 0.43510977 0.41957559 0.44223391\n",
      " 0.8244421  0.84145212 0.75602002 0.77321493 0.8535928  0.80758486\n",
      " 0.90831311 0.83349366 0.89747778 0.83066832 0.9067991  0.8862476\n",
      " 0.92984139 0.90868914 0.91778653 0.80088333 0.81928149 0.81593076\n",
      " 0.80781213 0.77880516 0.56145833 0.70596652 0.46105851 0.57594173\n",
      " 0.60428008 0.45975135 0.55318999 0.63569798 0.65209313 0.53583258\n",
      " 0.77967973 0.89737649 0.72759671 0.60011635 0.40114417 0.74736116\n",
      " 0.87042819 0.811521   0.81794654 0.83959546 0.74888753 0.82737348\n",
      " 0.81345029 0.72059657 0.81089872 0.6274596  0.43963136 0.78607106\n",
      " 0.77359672]\n",
      "[ 0.48358926  0.61228106  0.38240163  0.4592374   0.50722088  0.46886962\n",
      "  0.55953913  0.51376185  0.59759128  0.51991096  0.2941071   0.41893515\n",
      "  0.54434195  0.60594489  0.20327442  0.39222687  0.46769972  0.4278805\n",
      "  0.48428323  0.50410573  0.27678728  0.20688983  0.48197357  0.54684047\n",
      "  0.26606512  0.54557105  0.59144067  0.42784466  0.57183874  0.59529042\n",
      "  0.19171697  0.40551133  0.52646724  0.45675492  0.19566877  0.42229033\n",
      "  0.52880942  0.3432876   0.36105008  0.37567413  0.24091211  0.45010499\n",
      "  0.47433793  0.42367011  0.36767227  0.50584697  0.28139151  0.4545403\n",
      "  0.46702296  0.28439152  0.59357282  0.45209957  0.43393574  0.51171662\n",
      "  0.55520334  0.56624933  0.44351707  0.39926525  0.58954224  0.53162977\n",
      "  0.59229567  0.46390648  0.43734761  0.56697885  0.06726234  0.25491164\n",
      "  0.30314362  0.37341448  0.34868004  0.0879627   0.30464465  0.43168188\n",
      "  0.34456979  0.1687983   0.22111234  0.47547536  0.54837941  0.31058408\n",
      "  0.50738054  0.65354062  0.27427206  0.4844996   0.46720484  0.58680672\n",
      "  0.46927433  0.55951244  0.43685207  0.46338591  0.34705573  0.55752871\n",
      "  0.55773847  0.23244952  0.07166982  0.38561871  0.08971713  0.08328842\n",
      "  0.17392212  0.42377371  0.19573592  0.22605791  0.53524054  0.3152575\n",
      "  0.49981307  0.69565082  0.63014344  0.12168645  0.44716852  0.56038192\n",
      "  0.46498642  0.53980745  0.54778309  0.25866769  0.24644177  0.44166795\n",
      "  0.54283762  0.59996988  0.33793692  0.65277274  0.55113709  0.64064889\n",
      "  0.60705205  0.48980685  0.46613635  0.52387963  0.40353294  0.62683396\n",
      "  0.57782864  0.43277989  0.37702761  0.21869252  0.63672151  0.56641632\n",
      "  0.35318711  0.30212097  0.62007782  0.46041546  0.20778183  0.41024006\n",
      "  0.57369164  0.55990522 -0.06244855  0.13291502  0.23238275  0.38664402\n",
      "  0.55521047  0.64042355  0.52111997  0.56745863  0.55929829  0.49736028\n",
      "  0.68585142  0.56779123  0.60147987  0.51487059  0.6509655   0.5589222\n",
      "  0.62642775  0.61381516  0.57080142  0.5752824   0.55404008  0.49487647\n",
      "  0.50078011  0.43347392  0.37028549  0.37341188  0.00607209  0.36049601\n",
      "  0.32887868  0.14294106  0.22355862  0.38031339  0.35105522  0.2293539\n",
      "  0.40736402  0.53875669  0.4032811   0.34041976  0.13484014  0.30308645\n",
      "  0.51630822  0.41151467  0.60871919  0.65334784  0.68560116  0.62914315\n",
      "  0.60924783  0.41595795  0.59576631  0.31238012  0.08899643  0.55248474\n",
      "  0.48909124]\n"
     ]
    }
   ],
   "source": [
    "print(cc_norm)\n",
    "print(cc_max)\n",
    "print(corrs_unnorm)\n"
   ]
  },
  {
   "cell_type": "code",
   "execution_count": 12,
   "metadata": {},
   "outputs": [
    {
     "name": "stdout",
     "output_type": "stream",
     "text": [
      "0\n",
      "0\n"
     ]
    }
   ],
   "source": [
    "cc_norm = np.array(cc_norm)\n",
    "print((cc_norm == np.inf).sum())\n",
    "print((cc_norm == -np.inf).sum())"
   ]
  },
  {
   "cell_type": "code",
   "execution_count": 13,
   "metadata": {},
   "outputs": [
    {
     "data": {
      "image/png": "[encoded data removed]",
      "text/plain": [
       "<Figure size 800x300 with 1 Axes>"
      ]
     },
     "metadata": {},
     "output_type": "display_data"
    },
    {
     "name": "stdout",
     "output_type": "stream",
     "text": [
      "Mean cc_norm: 0.619\n",
      "Median cc_norm: 0.634\n",
      "Std cc_norm: 0.210\n"
     ]
    }
   ],
   "source": [
    "import matplotlib.pyplot as plt\n",
    "\n",
    "plt.figure(figsize=(8,3))\n",
    "cc_norm_finite = cc_norm[~np.isinf(cc_norm)]\n",
    "plt.hist(cc_norm_finite, bins=50)\n",
    "plt.title('Histogram of cc_norm')\n",
    "plt.xlabel('cc_norm value')\n",
    "plt.ylabel('Count')\n",
    "plt.grid(True)\n",
    "plt.show()\n",
    "\n",
    "print(f\"Mean cc_norm: {np.mean(cc_norm_finite):.3f}\")\n",
    "print(f\"Median cc_norm: {np.median(cc_norm_finite):.3f}\") \n",
    "print(f\"Std cc_norm: {np.std(cc_norm_finite):.3f}\")\n",
    "\n"
   ]
  },
  {
   "cell_type": "code",
   "execution_count": null,
   "metadata": {},
   "outputs": [],
   "source": []
  }
 ],
 "metadata": {
  "kernelspec": {
   "display_name": "sae",
   "language": "python",
   "name": "python3"
  },
  "language_info": {
   "codemirror_mode": {
    "name": "ipython",
    "version": 3
   },
   "file_extension": ".py",
   "mimetype": "text/x-python",
   "name": "python",
   "nbconvert_exporter": "python",
   "pygments_lexer": "ipython3",
   "version": "3.12.5"
  }
 },
 "nbformat": 4,
 "nbformat_minor": 2
}
