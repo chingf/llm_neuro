{
 "cells": [
  {
   "cell_type": "code",
   "execution_count": 1,
   "metadata": {},
   "outputs": [
    {
     "name": "stderr",
     "output_type": "stream",
     "text": [
      "/n/home04/cfang/.conda/envs/sae/lib/python3.12/site-packages/tqdm/auto.py:21: TqdmWarning: IProgress not found. Please update jupyter and ipywidgets. See https://ipywidgets.readthedocs.io/en/stable/user_install.html\n",
      "  from .autonotebook import tqdm as notebook_tqdm\n"
     ]
    }
   ],
   "source": [
    "#### Dependencies ####\n",
    "\n",
    "import numpy as np\n",
    "import logging\n",
    "import sys\n",
    "import time\n",
    "import joblib\n",
    "import matplotlib.pyplot as plt\n",
    "import torch\n",
    "from transformers import AutoTokenizer, AutoModelForCausalLM # Only necessary for feature extraction.\n",
    "\n",
    "# Repository imports\n",
    "from ridge_utils.ridge import bootstrap_ridge\n",
    "import ridge_utils.npp\n",
    "from ridge_utils.util import make_delayed\n",
    "from ridge_utils.dsutils import make_word_ds\n",
    "from ridge_utils.DataSequence import DataSequence\n",
    "from ridge_utils.tokenization_helpers import generate_efficient_feat_dicts_opt\n",
    "from ridge_utils.tokenization_helpers import convert_to_feature_mats_opt\n",
    "import warnings\n",
    "if not sys.warnoptions:\n",
    "    warnings.simplefilter(\"ignore\")\n",
    "\n",
    "# Some parameters\n",
    "trim_start = 50 # Trim 50 TRs off the start of the story\n",
    "trim_end = 5 # Trim 5 off the back\n",
    "ndelays = 4 # We use 4 FIR delays (2 seconds, 4 seconds, 6 seconds, 8 seconds)\n",
    "delays = range(1, ndelays + 1)"
   ]
  },
  {
   "cell_type": "code",
   "execution_count": 3,
   "metadata": {},
   "outputs": [],
   "source": [
    "from configs import engram_dir, allstories\n",
    "import os\n",
    "\n",
    "box_dir = os.path.join(engram_dir, 'huth_box/')"
   ]
  },
  {
   "cell_type": "markdown",
   "metadata": {},
   "source": [
    "# Load text data"
   ]
  },
  {
   "cell_type": "code",
   "execution_count": 4,
   "metadata": {},
   "outputs": [
    {
     "name": "stdout",
     "output_type": "stream",
     "text": [
      "Loaded text data\n"
     ]
    }
   ],
   "source": [
    "box_dir = os.path.join(engram_dir, 'huth_box/')\n",
    "grids = joblib.load(os.path.join(box_dir, \"grids_huge.jbl\")) # Load TextGrids containing story annotations\n",
    "trfiles = joblib.load(os.path.join(box_dir, \"trfiles_huge.jbl\")) # Load TRFiles containing TR information\n",
    "\n",
    "wordseqs = make_word_ds(grids, trfiles)\n",
    "for story in wordseqs.keys():\n",
    "    wordseqs[story].data = [i.strip() for i in wordseqs[story].data]\n",
    "print(\"Loaded text data\")\n",
    "test_stories = ['wheretheressmoke']"
   ]
  },
  {
   "cell_type": "markdown",
   "metadata": {},
   "source": [
    "# Load LLM"
   ]
  },
  {
   "cell_type": "code",
   "execution_count": 5,
   "metadata": {},
   "outputs": [
    {
     "name": "stderr",
     "output_type": "stream",
     "text": [
      "WARNING:root:You tried to specify center_unembed=True for a model using logit softcap, but this can't be done! Softcapping is not invariant upon adding a constant Setting center_unembed=False instead.\n",
      "Loading checkpoint shards: 100%|██████████| 3/3 [00:00<00:00,  3.40it/s]\n",
      "WARNING:root:You are not using LayerNorm, so the writing weights can't be centered! Skipping\n",
      "huggingface/tokenizers: The current process just got forked, after parallelism has already been used. Disabling parallelism to avoid deadlocks...\n",
      "To disable this warning, you can either:\n",
      "\t- Avoid using `tokenizers` before the fork if possible\n",
      "\t- Explicitly set the environment variable TOKENIZERS_PARALLELISM=(true | false)\n",
      "huggingface/tokenizers: The current process just got forked, after parallelism has already been used. Disabling parallelism to avoid deadlocks...\n",
      "To disable this warning, you can either:\n",
      "\t- Avoid using `tokenizers` before the fork if possible\n",
      "\t- Explicitly set the environment variable TOKENIZERS_PARALLELISM=(true | false)\n"
     ]
    },
    {
     "name": "stdout",
     "output_type": "stream",
     "text": [
      "Loaded pretrained model gemma-2-2b into HookedTransformer\n"
     ]
    }
   ],
   "source": [
    "from datasets import load_dataset\n",
    "from transformer_lens import HookedTransformer\n",
    "from sae_lens import SAE\n",
    "import torch\n",
    "\n",
    "from transformer_lens.utils import tokenize_and_concatenate\n",
    "from huggingface_hub import login\n",
    "from transformer_lens.components import TransformerBlock\n",
    "from configs import huggingface_token\n",
    "\n",
    "login(token=huggingface_token)\n",
    "device = \"cuda\" if torch.cuda.is_available() else \"cpu\"\n",
    "model = HookedTransformer.from_pretrained(\"gemma-2-2b\", device=device)\n",
    "tokenizer = model.tokenizer\n",
    "def override_to_local_attn(model, window_size=512):\n",
    "    for b in model.blocks:  # Possibly a cleaner way by correctly using 'use_local_attn'\n",
    "        if isinstance(b, TransformerBlock):\n",
    "            n_ctx = b.attn.cfg.n_ctx\n",
    "            attn_mask = torch.zeros((n_ctx, n_ctx)).bool()\n",
    "            for i in range(n_ctx):\n",
    "                start_idx = max(0, i-window_size)\n",
    "                attn_mask[i, start_idx:i+1] = True\n",
    "            b.attn.mask = attn_mask.to(device)\n",
    "\n",
    "override_to_local_attn(model)\n",
    "def find_word_boundaries(text_data, tokenizer):\n",
    "    full_story = \" \".join(text_data).strip()\n",
    "    tokenized_story = tokenizer(full_story)['input_ids']\n",
    "\n",
    "    word_boundaries = []  # In the tokenized story\n",
    "    curr_word_idx = 0\n",
    "    curr_word = text_data[curr_word_idx]\n",
    "    curr_token_set = []\n",
    "\n",
    "    if curr_word == '':\n",
    "        curr_word_idx += 1\n",
    "        curr_word = text_data[curr_word_idx]\n",
    "        word_boundaries.append(1)\n",
    "\n",
    "    for token_idx, token in enumerate(tokenized_story):\n",
    "        curr_token_set.append(token)\n",
    "        detokenized_chunk = tokenizer.decode(curr_token_set)\n",
    "        if curr_word in detokenized_chunk:\n",
    "            word_boundaries.append(token_idx)\n",
    "            curr_word_idx += 1\n",
    "            if curr_word_idx == len(text_data):\n",
    "                break\n",
    "            curr_word = text_data[curr_word_idx]\n",
    "            curr_token_set = []\n",
    "\n",
    "            if curr_word == '':  # Edge case\n",
    "                word_boundaries.append(token_idx)\n",
    "                curr_word_idx += 1\n",
    "                if curr_word_idx == len(text_data):\n",
    "                    break\n",
    "                curr_word = text_data[curr_word_idx]\n",
    "\n",
    "    return tokenized_story, word_boundaries"
   ]
  },
  {
   "cell_type": "code",
   "execution_count": 6,
   "metadata": {},
   "outputs": [
    {
     "name": "stdout",
     "output_type": "stream",
     "text": [
      "(251, 2304)\n"
     ]
    }
   ],
   "source": [
    "llm_test_responses = []\n",
    "for test_story in test_stories:\n",
    "    ws = wordseqs[test_story]\n",
    "    text_data = ws.data\n",
    "    tokenized_story, word_boundaries = find_word_boundaries(text_data, tokenizer)\n",
    "    with torch.no_grad():\n",
    "        _, cache = model.run_with_cache(\n",
    "            torch.tensor(tokenized_story).to(device),\n",
    "            prepend_bos=True,\n",
    "            names_filter=lambda name: name.startswith('blocks.7.hook_resid_post'),\n",
    "        )\n",
    "    llm_response = cache['blocks.7.hook_resid_post'][0, word_boundaries, :]\n",
    "    llm_data_seq = DataSequence(llm_response.cpu().numpy(), ws.split_inds, ws.data_times, ws.tr_times)\n",
    "    interp_llm_response = llm_data_seq.chunksums('lanczos', window=3)\n",
    "    interp_llm_response = ridge_utils.npp.zs(interp_llm_response[10:-5])\n",
    "    llm_test_responses.append(interp_llm_response[40:])\n",
    "\n",
    "llm_test_responses = np.vstack(llm_test_responses)\n",
    "print(llm_test_responses.shape)\n",
    "del cache\n",
    "torch.cuda.empty_cache()"
   ]
  },
  {
   "cell_type": "code",
   "execution_count": 7,
   "metadata": {},
   "outputs": [],
   "source": [
    "X_test = make_delayed(llm_test_responses, delays)"
   ]
  },
  {
   "cell_type": "markdown",
   "metadata": {},
   "source": [
    "# Load fMRI data"
   ]
  },
  {
   "cell_type": "code",
   "execution_count": 8,
   "metadata": {},
   "outputs": [],
   "source": [
    "tensessions = joblib.load(os.path.join(box_dir, \"stored_activations\", \"tensessions_wheretheressmoke_S03.jbl\"))"
   ]
  },
  {
   "cell_type": "markdown",
   "metadata": {},
   "source": [
    "# Get Model predictions"
   ]
  },
  {
   "cell_type": "code",
   "execution_count": 20,
   "metadata": {},
   "outputs": [],
   "source": [
    "#np.random.seed(0)\n",
    "#selected_features = np.random.choice(tensessions.shape[-1], size=5000, replace=False)\n",
    "#np.random.seed()\n",
    "import pickle\n",
    "with open(os.path.join('pickles', 'voxel_indices', 'broca.pkl'), 'rb') as f:\n",
    "    broca_voxel_indices = pickle.load(f)\n",
    "selected_features = broca_voxel_indices"
   ]
  },
  {
   "cell_type": "code",
   "execution_count": 39,
   "metadata": {},
   "outputs": [],
   "source": [
    "import pickle\n",
    "with open(os.path.join('pickles', 'regression_weights', 'broca_gemma.pkl'), 'rb') as f:\n",
    "    results = pickle.load(f)\n",
    "    wt = results['regression_weights']\n",
    "    best_estimator = results['best_estimator']\n"
   ]
  },
  {
   "cell_type": "code",
   "execution_count": 40,
   "metadata": {},
   "outputs": [],
   "source": [
    "# Dot the weights with the features to get voxelwise model predictions\n",
    "#pred = (wt @ X_test.T).T\n",
    "\n",
    "X_test_scaled = best_estimator.named_steps['standardscaler'].transform(X_test)\n",
    "pred = best_estimator.named_steps['ridge'].predict(X_test_scaled)"
   ]
  },
  {
   "cell_type": "markdown",
   "metadata": {},
   "source": [
    "# Compare to fMRI data"
   ]
  },
  {
   "cell_type": "code",
   "execution_count": 41,
   "metadata": {},
   "outputs": [],
   "source": [
    "_pred = pred\n",
    "_tensessions = tensessions[:, 40:, selected_features]\n"
   ]
  },
  {
   "cell_type": "code",
   "execution_count": 42,
   "metadata": {},
   "outputs": [],
   "source": [
    "def spe_and_cc_norm(orig_data, data_pred, data_norm=True, max_flooring=None):\n",
    "    '''\n",
    "    Computes the signal power explained and the cc_norm of a model given the observed and predicted values\n",
    "    Assumes normalization unless data_norm is set to False\n",
    "    \n",
    "    orig_data: 3D numpy array (trials, timepoints, voxels)\n",
    "    \n",
    "    data_pred: 2D numpy array (timepoints, voxels)\n",
    "    \n",
    "    data_norm: bool -> Set to False if not pre-normalized\n",
    "    \n",
    "    max_flooring: None/float (0-1) -> If not None, compute cc_norm in an alternate way that floors cc_max by max_flooring.\n",
    "    This is helpful to clean up bad voxels that are not at all language selective.\n",
    "    \n",
    "    According to Schoppe: https://www.frontiersin.org/articles/10.3389/fncom.2016.00010/full\n",
    "    '''\n",
    "    y = np.mean(orig_data, axis=0)\n",
    "    num_trials = len(orig_data)\n",
    "    if not data_norm:\n",
    "        variance_across_time = np.var(orig_data, axis=1, ddof=1)\n",
    "        TP = np.mean(variance_across_time, axis=0)\n",
    "    else:\n",
    "        TP = np.zeros(orig_data.shape[2]) + 1\n",
    "    SP = (1 / (num_trials-1)) * ((num_trials * np.var(y, axis=0, ddof=1)) - TP) \n",
    "    SPE_num = (np.var(y, axis=0, ddof=1) - np.var(y - data_pred, axis=0, ddof=1)) \n",
    "    SPE = (np.var(y, axis=0, ddof=1) - np.var(y - data_pred, axis=0, ddof=1)) / SP\n",
    "    y_flip = np.swapaxes(y, axis1=0, axis2=1)\n",
    "    data_flip = np.swapaxes(data_pred, axis1=0, axis2=1)\n",
    "    covs = np.zeros(y_flip.shape[0])\n",
    "    for i, row in enumerate(y_flip):\n",
    "        covs[i] = np.cov(y_flip[i], data_flip[i])[0][1]\n",
    "    cc_norm =  np.sqrt(1/SP) * (covs / np.sqrt(np.var(data_pred, axis=0, ddof=1)))\n",
    "    cc_max = None\n",
    "    if max_flooring is not None:\n",
    "        cc_max = np.nan_to_num(1 / (np.sqrt(1 + ((1/num_trials) * ((TP/SP)-1)))))\n",
    "        #cc_max = np.maximum(cc_max, np.zeros(cc_max.shape) + max_flooring)\n",
    "        corrs = np.zeros(y_flip.shape[0])\n",
    "        for i, row in enumerate(y_flip):\n",
    "            corrs[i] = np.corrcoef(y_flip[i], data_flip[i])[0][1]\n",
    "        cc_norm = corrs / cc_max\n",
    "    return SPE, cc_norm, cc_max, corrs\n"
   ]
  },
  {
   "cell_type": "code",
   "execution_count": 43,
   "metadata": {},
   "outputs": [],
   "source": [
    "\n",
    "SPE, cc_norm, cc_max, corrs_unnorm = spe_and_cc_norm(_tensessions, _pred, max_flooring=0.25)\n",
    "\n"
   ]
  },
  {
   "cell_type": "code",
   "execution_count": 44,
   "metadata": {},
   "outputs": [
    {
     "name": "stdout",
     "output_type": "stream",
     "text": [
      "[ 0.52306216  0.57816309  0.34997606  0.48494393  0.57933889  0.52554234\n",
      "  0.61742228  0.53106598  0.61956196  0.51546583  0.22517957  0.38098772\n",
      "  0.55239639  0.60992367  0.19449004  0.42044157  0.61146392  0.59042871\n",
      "  0.5947591   0.54436478  0.45487273  0.39807882  0.5507219   0.5200393\n",
      "  0.54715171  0.54521485  0.56516618  0.41968741  0.52250047  0.5722191\n",
      "  0.26318055  0.40014231  0.57260393  0.49024049  0.12282     0.38958659\n",
      "  0.45792718  0.63491117  0.72501937  0.40392629  0.17097398  0.3866783\n",
      "  0.48944281  0.45758972  0.43159321  0.56535964  0.18325378  0.45233034\n",
      "  0.49099377  0.29249715  0.64684436  0.52592798  0.42582982  0.57025656\n",
      "  0.6902258   0.61833333  0.52692826  0.50375847  0.62345084  0.56979755\n",
      "  0.54455661  0.4870111   0.35536884  0.52324193  0.1394122   0.18762186\n",
      "  0.17328535  0.35409999  0.44505306 -0.0722541   0.29828569  0.549152\n",
      "  0.5079588   0.61061848  0.4763922   0.49329106  0.5983255   0.55116793\n",
      "  0.64001929  0.67788043  0.57026348  0.6032646   0.68145742  0.60734976\n",
      "  0.65874256  0.74339668  0.58941371  0.63286851  0.5453559   0.67876701\n",
      "  0.77961102  0.46334112  0.31449158  0.51754431  0.11236177  0.10183521\n",
      "  2.53736817  0.62258772  0.38341898  0.54813431  0.55155055  0.53777017\n",
      "  0.70633932  0.76452527  0.63635183  0.4261758   0.71187781  0.63951929\n",
      "  0.69437714  0.70390396  0.58325647  0.41499858  0.34690909  0.55301249\n",
      "  0.72643043  0.65964959  0.65921682  0.67753373  0.67256412  0.6503001\n",
      "  0.63315811  0.60215287  0.54851642  0.57147828  0.55699838  0.62763335\n",
      "  0.61813283  0.50306515  0.58166087  0.48807259  0.6879414   0.60707328\n",
      "  0.4272655   0.33116457  0.65198945  0.45412599  0.42263225  0.48868233\n",
      "  0.63603418  0.55995434 -0.03087346  0.11387993  0.3431648   0.7846572\n",
      "  0.56869029  0.70554897  0.64564753  0.70893706  0.61378724  0.60676143\n",
      "  0.6909376   0.6082496   0.62362615  0.56932709  0.60928429  0.53323976\n",
      "  0.61446556  0.62758751  0.58329801  0.7404734   0.67180135  0.56845389\n",
      "  0.52215191  0.34733433  0.70886164  0.51450447 -0.00817969  0.5263839\n",
      "  0.52279658  0.24977652  0.36644273  0.52683753  0.48889159  0.37438762\n",
      "  0.37828694  0.4804942   0.44123386  0.47847961  0.06194362  0.27029554\n",
      "  0.49244055  0.43117827  0.70490691  0.74581123  0.88073314  0.70810361\n",
      "  0.66048289  0.52920354  0.61732971  0.39015071  0.19825319  0.6511652\n",
      "  0.52995271]\n",
      "[0.78168785 0.86768797 0.70724159 0.71117326 0.77990634 0.71428058\n",
      " 0.85690083 0.75538097 0.86708023 0.79475811 0.71099544 0.76124187\n",
      " 0.83483865 0.81310797 0.73148555 0.75739109 0.77607119 0.66465082\n",
      " 0.77034572 0.74815521 0.55765959 0.46146596 0.78792306 0.8629479\n",
      " 0.46747439 0.82032869 0.85648268 0.68650094 0.83482614 0.86170124\n",
      " 0.55754285 0.69677406 0.80948579 0.72597947 0.52061513 0.7448038\n",
      " 0.79462102 0.47566373 0.45205101 0.68416412 0.65069664 0.78712524\n",
      " 0.70872957 0.58275748 0.66356231 0.71521156 0.76114683 0.72675848\n",
      " 0.65982908 0.53528387 0.78685826 0.71027791 0.72227679 0.75069265\n",
      " 0.8091982  0.78285588 0.70623367 0.71814822 0.85546716 0.84344116\n",
      " 0.88829722 0.81548933 0.81988576 0.82117346 0.40436239 0.75227039\n",
      " 0.73043765 0.69741455 0.60353308 0.24742534 0.58651677 0.58031141\n",
      " 0.48081422 0.2280298  0.35408894 0.78838328 0.75718263 0.35880602\n",
      " 0.77420544 0.87268663 0.46870193 0.7460303  0.68344965 0.80067104\n",
      " 0.59886116 0.77185818 0.63654894 0.74498584 0.59476319 0.80713152\n",
      " 0.67175296 0.46034284 0.33876025 0.67681494 0.51649295 0.2164507\n",
      " 0.06589128 0.679135   0.41053377 0.27012686 0.84968242 0.44144252\n",
      " 0.73903289 0.88639792 0.87605828 0.45573797 0.52847514 0.72460851\n",
      " 0.64856028 0.72428171 0.84068618 0.53084786 0.68272047 0.73087638\n",
      " 0.69431601 0.84718623 0.48501868 0.89221558 0.70850772 0.8919938\n",
      " 0.84136489 0.71928018 0.76354705 0.81387467 0.65104915 0.91040041\n",
      " 0.84784217 0.73704486 0.59677402 0.36795626 0.84677742 0.87612254\n",
      " 0.65119948 0.71811721 0.80365053 0.76688517 0.41898453 0.71124849\n",
      " 0.73568554 0.85404239 0.39831541 0.43510977 0.41957559 0.44223391\n",
      " 0.8244421  0.84145212 0.75602002 0.77321493 0.8535928  0.80758486\n",
      " 0.90831311 0.83349366 0.89747778 0.83066832 0.9067991  0.8862476\n",
      " 0.92984139 0.90868914 0.91778653 0.80088333 0.81928149 0.81593076\n",
      " 0.80781213 0.77880516 0.56145833 0.70596652 0.46105851 0.57594173\n",
      " 0.60428008 0.45975135 0.55318999 0.63569798 0.65209313 0.53583258\n",
      " 0.77967973 0.89737649 0.72759671 0.60011635 0.40114417 0.74736116\n",
      " 0.87042819 0.811521   0.81794654 0.83959546 0.74888753 0.82737348\n",
      " 0.81345029 0.72059657 0.81089872 0.6274596  0.43963136 0.78607106\n",
      " 0.77359672]\n",
      "[ 0.40887134  0.50166515  0.24751763  0.34487915  0.45183008  0.37538469\n",
      "  0.52906967  0.40115713  0.53720992  0.40967065  0.16010165  0.29002381\n",
      "  0.46116186  0.49593379  0.14226666  0.3184387   0.47453954  0.39242893\n",
      "  0.45817013  0.40726934  0.25366414  0.18369983  0.43392649  0.44876682\n",
      "  0.25577941  0.44725538  0.48405505  0.2881158   0.43619705  0.49308191\n",
      "  0.14673444  0.27880878  0.46351474  0.35590453  0.06394195  0.29016557\n",
      "  0.36387856  0.30200421  0.32774574  0.27635188  0.1112522   0.30436425\n",
      "  0.34688259  0.26666383  0.28638899  0.40435175  0.13948303  0.32873491\n",
      "  0.32397197  0.15656901  0.50897483  0.37355503  0.30756699  0.42808741\n",
      "  0.55852947  0.48406588  0.37213447  0.36177324  0.53334172  0.48059071\n",
      "  0.48372812  0.39715236  0.29136185  0.42967239  0.05637305  0.14114237\n",
      "  0.12657415  0.24695448  0.26860425 -0.0178775   0.17494956  0.31867917\n",
      "  0.24423382  0.13923921  0.16868521  0.38890242  0.45304168  0.19776237\n",
      "  0.49550641  0.59157719  0.26728359  0.45005367  0.46574184  0.48628736\n",
      "  0.39449533  0.57379681  0.37519067  0.47147808  0.32435762  0.54785424\n",
      "  0.52370601  0.21329577  0.10653725  0.35028172  0.05803406  0.0220423\n",
      "  0.16719044  0.42282111  0.15740644  0.1480658   0.46864281  0.23739462\n",
      "  0.52200799  0.67767361  0.55748129  0.1942245   0.37620972  0.46340112\n",
      "  0.45034543  0.50982476  0.49033566  0.22030111  0.23684194  0.40418377\n",
      "  0.50437227  0.55884605  0.31973247  0.60450615  0.47651687  0.58006365\n",
      "  0.532717    0.43311663  0.41881809  0.46511169  0.36263332  0.57139766\n",
      "  0.52407908  0.37078158  0.34712009  0.17958936  0.58253324  0.53187058\n",
      "  0.27823507  0.23781498  0.52397167  0.34826249  0.17707637  0.34757457\n",
      "  0.46792115  0.47822474 -0.01229737  0.04955027  0.14398358  0.34700202\n",
      "  0.46885222  0.59368568  0.48812245  0.54816072  0.52392437  0.49001134\n",
      "  0.62758768  0.50697219  0.55969062  0.47292197  0.55249844  0.47258245\n",
      "  0.57135551  0.57028195  0.53534306  0.5930328   0.55039441  0.46381901\n",
      "  0.42180065  0.27050577  0.39799627  0.36322293 -0.00377132  0.30316645\n",
      "  0.31591556  0.11483509  0.20271245  0.33490956  0.31880285  0.20060909\n",
      "  0.29494266  0.4311842   0.3210403   0.28714343  0.02484832  0.20200839\n",
      "  0.42863414  0.34991022  0.57657616  0.62617972  0.65957006  0.58586615\n",
      "  0.53727     0.38134225  0.50059187  0.24480381  0.08715832  0.51186212\n",
      "  0.40996967]\n"
     ]
    }
   ],
   "source": [
    "print(cc_norm)\n",
    "print(cc_max)\n",
    "print(corrs_unnorm)\n"
   ]
  },
  {
   "cell_type": "code",
   "execution_count": 45,
   "metadata": {},
   "outputs": [],
   "source": [
    "cc_norm = np.array(cc_norm)"
   ]
  },
  {
   "cell_type": "code",
   "execution_count": 46,
   "metadata": {},
   "outputs": [
    {
     "name": "stdout",
     "output_type": "stream",
     "text": [
      "0\n",
      "0\n"
     ]
    }
   ],
   "source": [
    "print((cc_norm == np.inf).sum())\n",
    "print((cc_norm == -np.inf).sum())"
   ]
  },
  {
   "cell_type": "code",
   "execution_count": 47,
   "metadata": {},
   "outputs": [
    {
     "data": {
      "image/png": "[encoded data removed]",
      "text/plain": [
       "<Figure size 800x300 with 1 Axes>"
      ]
     },
     "metadata": {},
     "output_type": "display_data"
    },
    {
     "name": "stdout",
     "output_type": "stream",
     "text": [
      "Mean cc_norm: 0.524\n",
      "Median cc_norm: 0.547\n",
      "Std cc_norm: 0.220\n"
     ]
    }
   ],
   "source": [
    "import matplotlib.pyplot as plt\n",
    "\n",
    "plt.figure(figsize=(8,3))\n",
    "cc_norm_finite = cc_norm[~np.isinf(cc_norm)]\n",
    "plt.hist(cc_norm_finite, bins=50)\n",
    "plt.title('Histogram of cc_norm')\n",
    "plt.xlabel('cc_norm value')\n",
    "plt.ylabel('Count')\n",
    "plt.grid(True)\n",
    "plt.show()\n",
    "\n",
    "print(f\"Mean cc_norm: {np.mean(cc_norm_finite):.3f}\")\n",
    "print(f\"Median cc_norm: {np.median(cc_norm_finite):.3f}\") \n",
    "print(f\"Std cc_norm: {np.std(cc_norm_finite):.3f}\")"
   ]
  },
  {
   "cell_type": "code",
   "execution_count": 48,
   "metadata": {},
   "outputs": [
    {
     "name": "stdout",
     "output_type": "stream",
     "text": [
      "0.37021494686071754\n",
      "0.39242892610562996\n",
      "0.1540964407855528\n",
      "0.6776736098853463\n",
      "-0.017877495525880544\n"
     ]
    }
   ],
   "source": [
    "print(np.mean(corrs_unnorm))\n",
    "print(np.median(corrs_unnorm))\n",
    "print(np.std(corrs_unnorm))\n",
    "print(np.max(corrs_unnorm))\n",
    "print(np.min(corrs_unnorm))\n"
   ]
  },
  {
   "cell_type": "code",
   "execution_count": null,
   "metadata": {},
   "outputs": [],
   "source": []
  }
 ],
 "metadata": {
  "kernelspec": {
   "display_name": "sae",
   "language": "python",
   "name": "python3"
  },
  "language_info": {
   "codemirror_mode": {
    "name": "ipython",
    "version": 3
   },
   "file_extension": ".py",
   "mimetype": "text/x-python",
   "name": "python",
   "nbconvert_exporter": "python",
   "pygments_lexer": "ipython3",
   "version": "3.12.5"
  }
 },
 "nbformat": 4,
 "nbformat_minor": 2
}
