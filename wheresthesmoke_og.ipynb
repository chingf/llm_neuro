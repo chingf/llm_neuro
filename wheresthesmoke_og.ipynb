{
 "cells": [
  {
   "cell_type": "code",
   "execution_count": 1,
   "metadata": {},
   "outputs": [
    {
     "name": "stderr",
     "output_type": "stream",
     "text": [
      "/n/home04/cfang/.conda/envs/sae/lib/python3.12/site-packages/tqdm/auto.py:21: TqdmWarning: IProgress not found. Please update jupyter and ipywidgets. See https://ipywidgets.readthedocs.io/en/stable/user_install.html\n",
      "  from .autonotebook import tqdm as notebook_tqdm\n"
     ]
    }
   ],
   "source": [
    "#### Dependencies ####\n",
    "\n",
    "import numpy as np\n",
    "import logging\n",
    "import sys\n",
    "import time\n",
    "import joblib\n",
    "import matplotlib.pyplot as plt\n",
    "import torch\n",
    "from transformers import AutoTokenizer, AutoModelForCausalLM # Only necessary for feature extraction.\n",
    "\n",
    "# Repository imports\n",
    "from ridge_utils.ridge import bootstrap_ridge\n",
    "import ridge_utils.npp\n",
    "from ridge_utils.util import make_delayed\n",
    "from ridge_utils.dsutils import make_word_ds\n",
    "from ridge_utils.DataSequence import DataSequence\n",
    "from ridge_utils.tokenization_helpers import generate_efficient_feat_dicts_opt\n",
    "from ridge_utils.tokenization_helpers import convert_to_feature_mats_opt\n",
    "\n",
    "### Some extra helper functions\n",
    "\n",
    "zscore = lambda v: (v - v.mean(0)) / v.std(0)\n",
    "zscore.__doc__ = \"\"\"Z-scores (standardizes) each column of [v].\"\"\"\n",
    "zs = zscore\n",
    "\n",
    "## Matrix corr -- find correlation between each column of c1 and the corresponding column of c2\n",
    "mcorr = lambda c1, c2: (zs(c1) * zs(c2)).mean(0)\n",
    "mcorr.__doc__ = \"\"\"Matrix correlation. Find the correlation between each column of [c1] and the corresponding column of [c2].\"\"\"\n",
    "\n",
    "### Ignore irrelevant warnings that muck up the notebook\n",
    "import warnings\n",
    "\n",
    "if not sys.warnoptions:\n",
    "    warnings.simplefilter(\"ignore\")\n",
    "\n",
    "# Some parameters\n",
    "NUM_VOX = 95556 # Number of voxels in the subject we plan to use\n",
    "NUM_TRS = 790 # Number of TRs across 3 test stories\n",
    "trim_start = 50 # Trim 50 TRs off the start of the story\n",
    "trim_end = 5 # Trim 5 off the back\n",
    "ndelays = 4 # We use 4 FIR delays (2 seconds, 4 seconds, 6 seconds, 8 seconds)\n",
    "delays = range(1, ndelays + 1)"
   ]
  },
  {
   "cell_type": "code",
   "execution_count": 2,
   "metadata": {},
   "outputs": [],
   "source": [
    "from configs import engram_dir, allstories\n",
    "import os\n",
    "\n",
    "box_dir = os.path.join(engram_dir, 'huth_box/')"
   ]
  },
  {
   "cell_type": "code",
   "execution_count": 3,
   "metadata": {},
   "outputs": [],
   "source": [
    "### Running a basic semantic encoding model built from OPT layer 33 ###\n",
    "\n",
    "# We are going to test our model on one of our held-out stories, \"wheretheressmoke\".\n",
    "Tstories = ['wheretheressmoke']\n",
    "\n",
    "# Load the precomputed OPT model hidden states from the Box\n",
    "# From semantic_features folder\n",
    "features = joblib.load(os.path.join(box_dir, \"stored_activations\", \"downsampled_featureseqs_opt33b_layer33.jbl\"))\n",
    "\n",
    "# Trim and zscore the model features\n",
    "Tstim = np.nan_to_num(np.vstack([ridge_utils.npp.zs(features[story][trim_start:-trim_end]) for story in Tstories]))\n",
    "\n",
    "# Add FIR delays\n",
    "delTstim = make_delayed(Tstim, delays)\n",
    "\n",
    "# Load the linear encoding model weights for subject S02\n",
    "# From ridge_weights folder\n",
    "wt = joblib.load(os.path.join(box_dir, \"stored_activations\", \"S3_opt33b_wts_layer33.jbl.jbl\"))\n",
    "\n",
    "# Dot the weights with the features to get voxelwise model predictions\n",
    "pred = np.dot(delTstim,  wt)"
   ]
  },
  {
   "cell_type": "code",
   "execution_count": 4,
   "metadata": {},
   "outputs": [
    {
     "data": {
      "text/plain": [
       "(28672, 95556)"
      ]
     },
     "execution_count": 4,
     "metadata": {},
     "output_type": "execute_result"
    }
   ],
   "source": [
    "wt.shape"
   ]
  },
  {
   "cell_type": "code",
   "execution_count": 5,
   "metadata": {},
   "outputs": [],
   "source": [
    "tensessions = joblib.load(os.path.join(box_dir, \"stored_activations\", \"tensessions_wheretheressmoke_S03.jbl\"))"
   ]
  },
  {
   "cell_type": "code",
   "execution_count": 6,
   "metadata": {},
   "outputs": [
    {
     "data": {
      "text/plain": [
       "(10, 291, 95556)"
      ]
     },
     "execution_count": 6,
     "metadata": {},
     "output_type": "execute_result"
    }
   ],
   "source": [
    "tensessions.shape"
   ]
  },
  {
   "cell_type": "code",
   "execution_count": 7,
   "metadata": {},
   "outputs": [
    {
     "data": {
      "text/plain": [
       "(251, 95556)"
      ]
     },
     "execution_count": 7,
     "metadata": {},
     "output_type": "execute_result"
    }
   ],
   "source": [
    "pred.shape"
   ]
  },
  {
   "cell_type": "code",
   "execution_count": 8,
   "metadata": {},
   "outputs": [],
   "source": [
    "np.random.seed(0)\n",
    "selected_features = np.random.choice(pred.shape[1], size=5000, replace=False)\n",
    "np.random.seed()\n",
    "_pred = pred[:, selected_features]\n",
    "_tensessions = tensessions[:, 40:, selected_features]\n"
   ]
  },
  {
   "cell_type": "code",
   "execution_count": 9,
   "metadata": {},
   "outputs": [],
   "source": [
    "def spe_and_cc_norm(orig_data, data_pred, data_norm=True, max_flooring=None):\n",
    "    '''\n",
    "    Computes the signal power explained and the cc_norm of a model given the observed and predicted values\n",
    "    Assumes normalization unless data_norm is set to False\n",
    "    \n",
    "    orig_data: 3D numpy array (trials, timepoints, voxels)\n",
    "    \n",
    "    data_pred: 2D numpy array (timepoints, voxels)\n",
    "    \n",
    "    data_norm: bool -> Set to False if not pre-normalized\n",
    "    \n",
    "    max_flooring: None/float (0-1) -> If not None, compute cc_norm in an alternate way that floors cc_max by max_flooring.\n",
    "    This is helpful to clean up bad voxels that are not at all language selective.\n",
    "    \n",
    "    According to Schoppe: https://www.frontiersin.org/articles/10.3389/fncom.2016.00010/full\n",
    "    '''\n",
    "    y = np.mean(orig_data, axis=0)\n",
    "    num_trials = len(orig_data)\n",
    "    if not data_norm:\n",
    "        variance_across_time = np.var(orig_data, axis=1, ddof=1)\n",
    "        TP = np.mean(variance_across_time, axis=0)\n",
    "    else:\n",
    "        TP = np.zeros(orig_data.shape[2]) + 1\n",
    "    SP = (1 / (num_trials-1)) * ((num_trials * np.var(y, axis=0, ddof=1)) - TP) \n",
    "    SPE_num = (np.var(y, axis=0, ddof=1) - np.var(y - data_pred, axis=0, ddof=1)) \n",
    "    SPE = (np.var(y, axis=0, ddof=1) - np.var(y - data_pred, axis=0, ddof=1)) / SP\n",
    "    y_flip = np.swapaxes(y, axis1=0, axis2=1)\n",
    "    data_flip = np.swapaxes(data_pred, axis1=0, axis2=1)\n",
    "    covs = np.zeros(y_flip.shape[0])\n",
    "    for i, row in enumerate(y_flip):\n",
    "        covs[i] = np.cov(y_flip[i], data_flip[i])[0][1]\n",
    "    cc_norm =  np.sqrt(1/SP) * (covs / np.sqrt(np.var(data_pred, axis=0, ddof=1)))\n",
    "    cc_max = None\n",
    "    if max_flooring is not None:\n",
    "        cc_max = np.nan_to_num(1 / (np.sqrt(1 + ((1/num_trials) * ((TP/SP)-1)))))\n",
    "        #cc_max = np.maximum(cc_max, np.zeros(cc_max.shape) + max_flooring)\n",
    "        corrs = np.zeros(y_flip.shape[0])\n",
    "        for i, row in enumerate(y_flip):\n",
    "            corrs[i] = np.corrcoef(y_flip[i], data_flip[i])[0][1]\n",
    "        cc_norm = corrs / cc_max\n",
    "    return SPE, cc_norm, cc_max, corrs\n"
   ]
  },
  {
   "cell_type": "code",
   "execution_count": 10,
   "metadata": {},
   "outputs": [],
   "source": [
    "SPE, cc_norm, cc_max, corrs_unnorm = spe_and_cc_norm(_tensessions, _pred, max_flooring=0.25)"
   ]
  },
  {
   "cell_type": "code",
   "execution_count": 11,
   "metadata": {},
   "outputs": [
    {
     "name": "stdout",
     "output_type": "stream",
     "text": [
      "[ 0.38781168 -0.14266981  0.22406386 ...  0.28726077  0.5865962\n",
      "  0.38672965]\n",
      "[0.78707599 0.44049137 0.48035841 ... 0.66926356 0.54646858 0.20779704]\n",
      "[ 0.30523726 -0.06284482  0.10763096 ...  0.19225316  0.32055639\n",
      "  0.08036128]\n"
     ]
    }
   ],
   "source": [
    "print(cc_norm)\n",
    "print(cc_max)\n",
    "print(corrs_unnorm)\n"
   ]
  },
  {
   "cell_type": "code",
   "execution_count": 13,
   "metadata": {},
   "outputs": [
    {
     "name": "stdout",
     "output_type": "stream",
     "text": [
      "478\n",
      "169\n"
     ]
    }
   ],
   "source": [
    "cc_norm = np.array(cc_norm)\n",
    "print((cc_norm == np.inf).sum())\n",
    "print((cc_norm == -np.inf).sum())"
   ]
  },
  {
   "cell_type": "code",
   "execution_count": 20,
   "metadata": {},
   "outputs": [
    {
     "data": {
      "image/png": "[encoded data removed]",
      "text/plain": [
       "<Figure size 800x300 with 1 Axes>"
      ]
     },
     "metadata": {},
     "output_type": "display_data"
    },
    {
     "name": "stdout",
     "output_type": "stream",
     "text": [
      "Mean cc_norm: 0.369\n",
      "Median cc_norm: 0.377\n",
      "Std cc_norm: 0.396\n"
     ]
    }
   ],
   "source": [
    "import matplotlib.pyplot as plt\n",
    "\n",
    "plt.figure(figsize=(8,3))\n",
    "cc_norm_finite = cc_norm[~np.isinf(cc_norm)]\n",
    "plt.hist(cc_norm_finite, bins=50)\n",
    "plt.title('Histogram of cc_norm')\n",
    "plt.xlabel('cc_norm value')\n",
    "plt.ylabel('Count')\n",
    "plt.grid(True)\n",
    "plt.show()\n",
    "\n",
    "print(f\"Mean cc_norm: {np.mean(cc_norm_finite):.3f}\")\n",
    "print(f\"Median cc_norm: {np.median(cc_norm_finite):.3f}\") \n",
    "print(f\"Std cc_norm: {np.std(cc_norm_finite):.3f}\")\n",
    "\n"
   ]
  }
 ],
 "metadata": {
  "kernelspec": {
   "display_name": "sae",
   "language": "python",
   "name": "python3"
  },
  "language_info": {
   "codemirror_mode": {
    "name": "ipython",
    "version": 3
   },
   "file_extension": ".py",
   "mimetype": "text/x-python",
   "name": "python",
   "nbconvert_exporter": "python",
   "pygments_lexer": "ipython3",
   "version": "3.12.5"
  }
 },
 "nbformat": 4,
 "nbformat_minor": 2
}
